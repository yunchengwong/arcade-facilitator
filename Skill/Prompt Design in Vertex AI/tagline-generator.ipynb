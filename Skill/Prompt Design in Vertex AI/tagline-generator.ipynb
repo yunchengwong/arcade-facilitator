{
 "cells": [
  {
   "cell_type": "code",
   "execution_count": 1,
   "id": "3dba1ae7-a52a-4b8f-a4c2-b5d731ab3624",
   "metadata": {},
   "outputs": [],
   "source": [
    "#! pip install --upgrade google-genai\n",
    "#! gcloud auth application-default login"
   ]
  },
  {
   "cell_type": "code",
   "execution_count": 2,
   "id": "1ebbb1dd-a9a4-4a28-b15b-7b49453545ab",
   "metadata": {
    "tags": []
   },
   "outputs": [
    {
     "name": "stdout",
     "output_type": "stream",
     "text": [
      "Conquer Nature: Your Run. Your Data. Unstoppable.\n"
     ]
    }
   ],
   "source": [
    "from google import genai\n",
    "from google.genai import types\n",
    "import base64\n",
    "\n",
    "def generate():\n",
    "  client = genai.Client(\n",
    "      vertexai=True,\n",
    "      project=\"qwiklabs-gcp-04-12a41f302636\",\n",
    "      location=\"global\",\n",
    "  )\n",
    "\n",
    "  text1 = types.Part.from_text(text=\"\"\"Customize taglines based on:\n",
    "Product attributes (e.g., durable, lightweight)\n",
    "Target audience (e.g., young adventurers, families)\n",
    "Emotional resonance (e.g., empowered, connected)\n",
    "\n",
    "input: Write a tagline for a durable backpack designed for hikers that makes them feel prepared. Consider styles like minimalist.\n",
    "output: Built for the Journey: Your Adventure Essentials.\n",
    "\n",
    "input: Write a tagline for a lightweight Bluetooth speaker designed for families that makes them feel connected. Consider styles like playful.\n",
    "output: Family adventures, connected by sound.\n",
    "\n",
    "input: Write a tagline for a rugged smartwatch designed for trail runners that makes them feel unstoppable. Consider styles like bold. Include the keyword nature.\n",
    "output:\"\"\")\n",
    "  si_text1 = \"\"\"Cymbal Direct is partnering with an outdoor gear retailer. They're launching a new line of products designed to encourage young people to explore the outdoors. Help them create catchy taglines for this product line.\"\"\"\n",
    "\n",
    "  model = \"gemini-2.0-flash-001\"\n",
    "  contents = [\n",
    "    types.Content(\n",
    "      role=\"user\",\n",
    "      parts=[\n",
    "        text1\n",
    "      ]\n",
    "    )\n",
    "  ]\n",
    "\n",
    "  generate_content_config = types.GenerateContentConfig(\n",
    "    temperature = 1,\n",
    "    top_p = 0.95,\n",
    "    max_output_tokens = 8192,\n",
    "    safety_settings = [types.SafetySetting(\n",
    "      category=\"HARM_CATEGORY_HATE_SPEECH\",\n",
    "      threshold=\"OFF\"\n",
    "    ),types.SafetySetting(\n",
    "      category=\"HARM_CATEGORY_DANGEROUS_CONTENT\",\n",
    "      threshold=\"OFF\"\n",
    "    ),types.SafetySetting(\n",
    "      category=\"HARM_CATEGORY_SEXUALLY_EXPLICIT\",\n",
    "      threshold=\"OFF\"\n",
    "    ),types.SafetySetting(\n",
    "      category=\"HARM_CATEGORY_HARASSMENT\",\n",
    "      threshold=\"OFF\"\n",
    "    )],\n",
    "    system_instruction=[types.Part.from_text(text=si_text1)],\n",
    "  )\n",
    "\n",
    "  for chunk in client.models.generate_content_stream(\n",
    "    model = model,\n",
    "    contents = contents,\n",
    "    config = generate_content_config,\n",
    "    ):\n",
    "    print(chunk.text, end=\"\")\n",
    "\n",
    "generate()"
   ]
  },
  {
   "cell_type": "code",
   "execution_count": null,
   "id": "215d9b85-3883-42a8-9405-d951443e4a9a",
   "metadata": {},
   "outputs": [],
   "source": []
  }
 ],
 "metadata": {
  "environment": {
   "kernel": "conda-base-py",
   "name": "workbench-notebooks.m132",
   "type": "gcloud",
   "uri": "us-docker.pkg.dev/deeplearning-platform-release/gcr.io/workbench-notebooks:m132"
  },
  "kernelspec": {
   "display_name": "Python 3 (ipykernel)",
   "language": "python",
   "name": "conda-base-py"
  },
  "language_info": {
   "codemirror_mode": {
    "name": "ipython",
    "version": 3
   },
   "file_extension": ".py",
   "mimetype": "text/x-python",
   "name": "python",
   "nbconvert_exporter": "python",
   "pygments_lexer": "ipython3",
   "version": "3.10.18"
  }
 },
 "nbformat": 4,
 "nbformat_minor": 5
}
