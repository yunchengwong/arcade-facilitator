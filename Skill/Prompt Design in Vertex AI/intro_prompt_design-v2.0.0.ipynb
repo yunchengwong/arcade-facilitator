{
 "cells": [
  {
   "cell_type": "code",
   "execution_count": 1,
   "metadata": {
    "id": "ur8xi4C7S06n"
   },
   "outputs": [],
   "source": [
    "# Copyright 2025 Google LLC\n",
    "#\n",
    "# Licensed under the Apache License, Version 2.0 (the \"License\");\n",
    "# you may not use this file except in compliance with the License.\n",
    "# You may obtain a copy of the License at\n",
    "#\n",
    "#     https://www.apache.org/licenses/LICENSE-2.0\n",
    "#\n",
    "# Unless required by applicable law or agreed to in writing, software\n",
    "# distributed under the License is distributed on an \"AS IS\" BASIS,\n",
    "# WITHOUT WARRANTIES OR CONDITIONS OF ANY KIND, either express or implied.\n",
    "# See the License for the specific language governing permissions and\n",
    "# limitations under the License."
   ]
  },
  {
   "cell_type": "markdown",
   "metadata": {
    "id": "JAPoU8Sm5E6e"
   },
   "source": [
    "# Prompt Design - Best Practices\n",
    "\n",
    "<table align=\"left\">\n",
    "  <td style=\"text-align: center\">\n",
    "    <a href=\"https://colab.research.google.com/github/GoogleCloudPlatform/generative-ai/blob/main/gemini/prompts/intro_prompt_design.ipynb\">\n",
    "      <img width=\"32px\" src=\"https://www.gstatic.com/pantheon/images/bigquery/welcome_page/colab-logo.svg\" alt=\"Google Colaboratory logo\"><br> Open in Colab\n",
    "    </a>\n",
    "  </td>\n",
    "  <td style=\"text-align: center\">\n",
    "    <a href=\"https://console.cloud.google.com/vertex-ai/colab/import/https:%2F%2Fraw.githubusercontent.com%2FGoogleCloudPlatform%2Fgenerative-ai%2Fmain%2Fgemini%2Fprompts%2Fintro_prompt_design.ipynb\">\n",
    "      <img width=\"32px\" src=\"https://lh3.googleusercontent.com/JmcxdQi-qOpctIvWKgPtrzZdJJK-J3sWE1RsfjZNwshCFgE_9fULcNpuXYTilIR2hjwN\" alt=\"Google Cloud Colab Enterprise logo\"><br> Open in Colab Enterprise\n",
    "    </a>\n",
    "  </td>\n",
    "  <td style=\"text-align: center\">\n",
    "    <a href=\"https://console.cloud.google.com/vertex-ai/workbench/deploy-notebook?download_url=https://raw.githubusercontent.com/GoogleCloudPlatform/generative-ai/main/gemini/prompts/intro_prompt_design.ipynb\">\n",
    "      <img src=\"https://www.gstatic.com/images/branding/gcpiconscolors/vertexai/v1/32px.svg\" alt=\"Vertex AI logo\"><br> Open in Workbench\n",
    "    </a>\n",
    "  </td>\n",
    "  <td style=\"text-align: center\">\n",
    "    <a href=\"https://github.com/GoogleCloudPlatform/generative-ai/blob/main/gemini/prompts/intro_prompt_design.ipynb\">\n",
    "      <img width=\"32px\" src=\"https://www.svgrepo.com/download/217753/github.svg\" alt=\"GitHub logo\"><br> View on GitHub\n",
    "    </a>\n",
    "  </td>\n",
    "  <td style=\"text-align: center\">\n",
    "    <a href=\"https://goo.gle/4fWHlze\">\n",
    "      <img width=\"32px\" src=\"https://cdn.qwiklabs.com/assets/gcp_cloud-e3a77215f0b8bfa9b3f611c0d2208c7e8708ed31.svg\" alt=\"Google Cloud logo\"><br> Open in  Cloud Skills Boost\n",
    "    </a>\n",
    "  </td>\n",
    "</table>\n",
    "\n",
    "<div style=\"clear: both;\"></div>\n",
    "\n",
    "<b>Share to:</b>\n",
    "\n",
    "<a href=\"https://www.linkedin.com/sharing/share-offsite/?url=https%3A//github.com/GoogleCloudPlatform/generative-ai/blob/main/gemini/prompts/intro_prompt_design.ipynb\" target=\"_blank\">\n",
    "  <img width=\"20px\" src=\"https://upload.wikimedia.org/wikipedia/commons/8/81/LinkedIn_icon.svg\" alt=\"LinkedIn logo\">\n",
    "</a>\n",
    "<a href=\"https://bsky.app/intent/compose?text=https%3A//github.com/GoogleCloudPlatform/generative-ai/blob/main/gemini/prompts/intro_prompt_design.ipynb\" target=\"_blank\">\n",
    "  <img width=\"20px\" src=\"https://upload.wikimedia.org/wikipedia/commons/7/7a/Bluesky_Logo.svg\" alt=\"Bluesky logo\">\n",
    "</a>\n",
    "<a href=\"https://twitter.com/intent/tweet?url=https%3A//github.com/GoogleCloudPlatform/generative-ai/blob/main/gemini/prompts/intro_prompt_design.ipynb\" target=\"_blank\">\n",
    "  <img width=\"20px\" src=\"https://upload.wikimedia.org/wikipedia/commons/5/5a/X_icon_2.svg\" alt=\"X logo\">\n",
    "</a>\n",
    "<a href=\"https://reddit.com/submit?url=https%3A//github.com/GoogleCloudPlatform/generative-ai/blob/main/gemini/prompts/intro_prompt_design.ipynb\" target=\"_blank\">\n",
    "  <img width=\"20px\" src=\"https://redditinc.com/hubfs/Reddit%20Inc/Brand/Reddit_Logo.png\" alt=\"Reddit logo\">\n",
    "</a>\n",
    "<a href=\"https://www.facebook.com/sharer/sharer.php?u=https%3A//github.com/GoogleCloudPlatform/generative-ai/blob/main/gemini/prompts/intro_prompt_design.ipynb\" target=\"_blank\">\n",
    "  <img width=\"20px\" src=\"https://upload.wikimedia.org/wikipedia/commons/5/51/Facebook_f_logo_%282019%29.svg\" alt=\"Facebook logo\">\n",
    "</a>"
   ]
  },
  {
   "cell_type": "markdown",
   "metadata": {
    "id": "84f0f73a0f76"
   },
   "source": [
    "| Authors |\n",
    "| --- |\n",
    "| [Polong Lin](https://github.com/polong-lin) |\n",
    "| [Karl Weinmeister](https://github.com/kweinmeister) |"
   ]
  },
  {
   "cell_type": "markdown",
   "metadata": {
    "id": "tvgnzT1CKxrO"
   },
   "source": [
    "## Overview\n",
    "\n",
    "This notebook covers the essentials of prompt engineering, including some best practices.\n",
    "\n",
    "Learn more about prompt design in the [official documentation](https://cloud.google.com/vertex-ai/docs/generative-ai/text/text-overview).\n",
    "\n",
    "In this notebook, you learn best practices around prompt engineering -- how to design prompts to improve the quality of your responses.\n",
    "\n",
    "This notebook covers the following best practices for prompt engineering:\n",
    "\n",
    "- Be concise\n",
    "- Be specific and well-defined\n",
    "- Ask one task at a time\n",
    "- Turn generative tasks into classification tasks\n",
    "- Improve response quality by including examples"
   ]
  },
  {
   "cell_type": "markdown",
   "metadata": {
    "id": "61RBz8LLbxCR"
   },
   "source": [
    "## Getting Started"
   ]
  },
  {
   "cell_type": "markdown",
   "metadata": {
    "id": "No17Cw5hgx12"
   },
   "source": [
    "### Install Google Gen AI SDK\n"
   ]
  },
  {
   "cell_type": "code",
   "execution_count": 2,
   "metadata": {
    "id": "tFy3H3aPgx12"
   },
   "outputs": [
    {
     "name": "stdout",
     "output_type": "stream",
     "text": [
      "Note: you may need to restart the kernel to use updated packages.\n"
     ]
    }
   ],
   "source": [
    "%pip install --upgrade --quiet google-genai"
   ]
  },
  {
   "cell_type": "markdown",
   "metadata": {
    "id": "06489bd14f16"
   },
   "source": [
    "### Import libraries\n"
   ]
  },
  {
   "cell_type": "code",
   "execution_count": 3,
   "metadata": {
    "id": "154137022fb6"
   },
   "outputs": [],
   "source": [
    "from IPython.display import Markdown, display\n",
    "from google import genai\n",
    "from google.genai.types import GenerateContentConfig"
   ]
  },
  {
   "cell_type": "markdown",
   "metadata": {
    "id": "DF4l8DTdWgPY"
   },
   "source": [
    "### Set Google Cloud project information and create client\n",
    "\n",
    "To get started using Vertex AI, you must have an existing Google Cloud project and [enable the Vertex AI API](https://console.cloud.google.com/flows/enableapi?apiid=aiplatform.googleapis.com).\n",
    "\n",
    "Learn more about [setting up a project and a development environment](https://cloud.google.com/vertex-ai/docs/start/cloud-environment)."
   ]
  },
  {
   "cell_type": "code",
   "execution_count": 9,
   "metadata": {
    "id": "Nqwi-5ufWp_B"
   },
   "outputs": [],
   "source": [
    "import os\n",
    "\n",
    "PROJECT_ID = \"qwiklabs-gcp-03-d8b9a1f9e2a4\"  # @param {type: \"string\", placeholder: \"[your-project-id]\", isTemplate: true}\n",
    "if not PROJECT_ID or PROJECT_ID == \"[your-project-id]\":\n",
    "    PROJECT_ID = str(os.environ.get(\"GOOGLE_CLOUD_PROJECT\"))\n",
    "\n",
    "LOCATION = \"us-central1\""
   ]
  },
  {
   "cell_type": "code",
   "execution_count": 10,
   "metadata": {
    "id": "QqRWdPGmW3NJ"
   },
   "outputs": [],
   "source": [
    "client = genai.Client(vertexai=True, project=PROJECT_ID, location=LOCATION)"
   ]
  },
  {
   "cell_type": "markdown",
   "metadata": {
    "id": "OnFPpCRtXRl4"
   },
   "source": [
    "### Load model\n",
    "\n",
    "Learn more about all [Gemini models on Vertex AI](https://cloud.google.com/vertex-ai/generative-ai/docs/learn/models#gemini-models)."
   ]
  },
  {
   "cell_type": "code",
   "execution_count": 11,
   "metadata": {
    "id": "IQYu_9SvXQah"
   },
   "outputs": [],
   "source": [
    "MODEL_ID = \"gemini-2.5-flash\"  # @param {type: \"string\"}"
   ]
  },
  {
   "cell_type": "markdown",
   "metadata": {
    "id": "cVOtUNJ5X0PY"
   },
   "source": [
    "## Prompt engineering best practices"
   ]
  },
  {
   "cell_type": "markdown",
   "metadata": {
    "id": "uv_e0fEPX60q"
   },
   "source": [
    "Prompt engineering is all about how to design your prompts so that the response is what you were indeed hoping to see.\n",
    "\n",
    "The idea of using \"unfancy\" prompts is to minimize the noise in your prompt to reduce the possibility of the LLM misinterpreting the intent of the prompt. Below are a few guidelines on how to engineer \"unfancy\" prompts.\n",
    "\n",
    "In this section, you'll cover the following best practices when engineering prompts:\n",
    "\n",
    "* Be concise\n",
    "* Be specific, and well-defined\n",
    "* Ask one task at a time\n",
    "* Improve response quality by including examples\n",
    "* Turn generative tasks to classification tasks to improve safety"
   ]
  },
  {
   "cell_type": "markdown",
   "metadata": {
    "id": "0pY4XX0OX9_Y"
   },
   "source": [
    "### Be concise"
   ]
  },
  {
   "cell_type": "markdown",
   "metadata": {
    "id": "xlRpxyxGYA1K"
   },
   "source": [
    "🛑 Not recommended. The prompt below is unnecessarily verbose."
   ]
  },
  {
   "cell_type": "code",
   "execution_count": 12,
   "metadata": {
    "id": "YKV4G-CfXdbi"
   },
   "outputs": [
    {
     "data": {
      "text/markdown": [
       "That's a fantastic niche! Dried flowers evoke a sense of timelessness, sustainability, and unique beauty. Here are some name ideas, categorized by the vibe they convey:\n",
       "\n",
       "**I. Emphasizing Longevity & Timelessness:**\n",
       "\n",
       "1.  **Everbloom Botanicals:** Suggests flowers that last forever.\n",
       "2.  **The Unfading Flower:** Simple, elegant, and descriptive.\n",
       "3.  **Timeless Petal Co.** / **Timeless Stems:** Highlights the lasting nature.\n",
       "4.  **Forever Bloom Shop:** Clear and direct.\n",
       "5.  **Enduring Petals:** Conveys durability and lasting beauty.\n",
       "6.  **The Constant Bloom:** A poetic take on never wilting.\n",
       "7.  **Legacy Blooms:** Implies passing beauty down through time.\n",
       "8.  **Heirloom Botanicals:** Suggests classic, cherished beauty that endures.\n",
       "\n",
       "**II. Evoking Earthiness & Natural Process:**\n",
       "\n",
       "9.  **Sun-Kissed Stems:** Implies natural drying by the sun.\n",
       "10. **Harvest Hues:** Suggests the autumnal, muted tones of dried flowers.\n",
       "11. **Earth & Petal:** Simple, grounded, natural.\n",
       "12. **The Dried Garden:** A straightforward and charming name.\n",
       "13. **Root & Bloom (Dried Edition):** Connects to natural cycles.\n",
       "14. **Terraflora Dried:** \"Terra\" means earth, combined with \"flora.\"\n",
       "15. **The Whisper Bloom:** Suggests the quiet, delicate beauty of dried flowers.\n",
       "\n",
       "**III. Poetic & Whimsical:**\n",
       "\n",
       "16. **Dusty Rose Botanicals:** Evokes vintage charm and classic dried flower colors.\n",
       "17. **Petal & Twine:** A classic, rustic, and crafty feel.\n",
       "18. **The Quiet Bloom:** Peaceful and reflective.\n",
       "19. **Memory Lane Blooms:** Dried flowers often hold sentimental value.\n",
       "20. **Arbor & Bloom:** \"Arbor\" suggests natural, rustic structures, fitting with dried arrangements.\n",
       "21. **The Faded Poppy:** Specific and evocative.\n",
       "22. **Willow & Petal:** Suggests natural materials and graceful forms.\n",
       "\n",
       "**IV. Modern & Chic:**\n",
       "\n",
       "23. **Preserved Petals.** / **Preserved Bloom Co.**\n",
       "24. **Dried. (with a subtle tagline like \"Bouquets that last\")**\n",
       "25. **The Botanical Archive:** Suggests a collection of enduring beauty.\n",
       "26. **Flora & Form (Dried):** Focuses on the structure and artistry.\n",
       "27. **The Dry House:** Simple, memorable, and direct.\n",
       "28. **Static Bloom:** Plays on the idea of unchanging beauty.\n",
       "\n",
       "**Tips for Choosing:**\n",
       "\n",
       "*   **Say it out loud:** Does it roll off the tongue?\n",
       "*   **Check availability:** Is the name, domain name, and social media handles available?\n",
       "*   **Consider your aesthetic:** Do you want something rustic, elegant, modern, or whimsical?\n",
       "*   **Ask for opinions:** Get feedback from potential customers.\n",
       "*   **Think about your logo:** How would the name look visually?\n",
       "\n",
       "Good luck with your dried flower shop!"
      ],
      "text/plain": [
       "<IPython.core.display.Markdown object>"
      ]
     },
     "metadata": {},
     "output_type": "display_data"
    }
   ],
   "source": [
    "prompt = \"What do you think could be a good name for a flower shop that specializes in selling bouquets of dried flowers more than fresh flowers?\"\n",
    "\n",
    "response = client.models.generate_content(model=MODEL_ID, contents=prompt)\n",
    "display(Markdown(response.text))"
   ]
  },
  {
   "cell_type": "markdown",
   "metadata": {
    "id": "YrJexRHJYnmC"
   },
   "source": [
    "✅ Recommended. The prompt below is to the point and concise."
   ]
  },
  {
   "cell_type": "code",
   "execution_count": 13,
   "metadata": {
    "id": "VHetn9lCYrXB"
   },
   "outputs": [
    {
     "data": {
      "text/markdown": [
       "Here are some name suggestions for a dried flower shop, categorized by the vibe they evoke:\n",
       "\n",
       "**Emphasizing Longevity & Everlasting Beauty:**\n",
       "\n",
       "1.  **Everbloom** (Simple, elegant, implies perpetual bloom)\n",
       "2.  **The Enduring Petal** (Classic, highlights the lasting nature)\n",
       "3.  **Timeless Blooms** (Conveys lasting beauty and appeal)\n",
       "4.  **Forever Flora** (Direct and clear about the product's lifespan)\n",
       "5.  **Perpetual Petals** (Sophisticated, suggests continuous beauty)\n",
       "6.  **The Preserved Bloom** (Clear, focuses on the preservation aspect)\n",
       "7.  **Eternal Stems** (Evokes lasting memories and beauty)\n",
       "\n",
       "**Emphasizing Natural, Rustic & Earthy Vibes:**\n",
       "\n",
       "8.  **The Gathered Bloom** (Suggests natural collection, rustic charm)\n",
       "9.  **Rustic Petals Co.** (Directly references the aesthetic)\n",
       "10. **Sun-Kissed Stems** (Implies natural drying, warmth)\n",
       "11. **Earth & Bloom** (Simple, highlights natural elements)\n",
       "12. **The Dried & True** (Playful, suggests authenticity and reliability)\n",
       "13. **Wild & Preserved** (Highlights natural beauty that lasts)\n",
       "14. **Botanical Echoes** (Suggests natural forms that linger)\n",
       "\n",
       "**Emphasizing Artistry & Craft:**\n",
       "\n",
       "15. **The Curated Bloom** (Implies thoughtful selection and arrangement)\n",
       "16. **Petal & Preserve** (Elegant, focuses on the craft of preservation)\n",
       "17. **Aired & Arranged** (Simple, describes the process)\n",
       "18. **The Art of Dried** (Directly positions it as an art form)\n",
       "19. **Bloom & Basket** (Suggests the arrangement and presentation)\n",
       "20. **The Botanical Atelier** (Sophisticated, implies a workshop for botanical art)\n",
       "\n",
       "**Whimsical & Evocative:**\n",
       "\n",
       "21. **Whispering Blooms** (Suggests a gentle, quiet beauty)\n",
       "22. **Memory Petals** (Connects dried flowers to cherished memories)\n",
       "23. **Poetry in Petals** (Elegant, suggests beauty and emotion)\n",
       "24. **The Fading Bloom** (A bit more poetic, acknowledges natural process but focuses on beauty)\n",
       "25. **Dusty Rose Dry Goods** (If you lean into a vintage, charming aesthetic)\n",
       "\n",
       "**Tips for Choosing:**\n",
       "\n",
       "*   **Say it out loud:** Does it roll off the tongue?\n",
       "*   **Check availability:** Is the name, domain name, and social media handle available?\n",
       "*   **Target audience:** Does it appeal to your ideal customer?\n",
       "*   **Memorability:** Is it easy to remember and spell?\n",
       "*   **Uniqueness:** Does it stand out from competitors?\n",
       "\n",
       "Good luck with your shop!"
      ],
      "text/plain": [
       "<IPython.core.display.Markdown object>"
      ]
     },
     "metadata": {},
     "output_type": "display_data"
    }
   ],
   "source": [
    "prompt = \"Suggest a name for a flower shop that sells bouquets of dried flowers\"\n",
    "\n",
    "response = client.models.generate_content(model=MODEL_ID, contents=prompt)\n",
    "display(Markdown(response.text))"
   ]
  },
  {
   "cell_type": "markdown",
   "metadata": {
    "id": "eXTAvdOHY0OC"
   },
   "source": [
    "### Be specific, and well-defined"
   ]
  },
  {
   "cell_type": "markdown",
   "metadata": {
    "id": "FTH4GEIgY1dp"
   },
   "source": [
    "Suppose that you want to brainstorm creative ways to describe Earth."
   ]
  },
  {
   "cell_type": "markdown",
   "metadata": {
    "id": "o5BmXBiGY4KC"
   },
   "source": [
    "🛑 The prompt below might be a bit too generic (which is certainly OK if you'd like to ask a generic question!)"
   ]
  },
  {
   "cell_type": "code",
   "execution_count": 14,
   "metadata": {
    "id": "eHBaMvv7Y6mR"
   },
   "outputs": [
    {
     "data": {
      "text/markdown": [
       "Earth, our home planet, is a truly remarkable and unique celestial body. Here's a breakdown of its key features and characteristics:\n",
       "\n",
       "1.  **A Terrestrial Planet:**\n",
       "    *   Earth is the **third planet from the Sun** and the **fifth-largest planet in our solar system**.\n",
       "    *   It's a **terrestrial planet**, meaning it has a solid, rocky surface, unlike gas giants like Jupiter or Saturn.\n",
       "\n",
       "2.  **The Blue Planet:**\n",
       "    *   Often called the \"Blue Planet,\" about **71% of Earth's surface is covered by water**, primarily its vast oceans. This abundance of liquid water is crucial for life.\n",
       "    *   The remaining 29% is land, consisting of continents and islands.\n",
       "\n",
       "3.  **Unique for Life:**\n",
       "    *   Earth is the **only known planet to harbor life**. This is due to a perfect combination of factors:\n",
       "        *   **Liquid Water:** Essential solvent for biological processes.\n",
       "        *   **Habitable Zone:** Earth orbits the Sun at a distance where temperatures allow liquid water to exist on its surface.\n",
       "        *   **Stable Atmosphere:** Composed primarily of nitrogen (78%), oxygen (21%), argon (0.93%), and trace amounts of other gases (including carbon dioxide), it provides breathable air, protects from harmful radiation, and helps regulate temperature.\n",
       "        *   **Magnetic Field (Magnetosphere):** Generated by the molten iron core, this field deflects harmful charged particles from the Sun (solar wind), preventing the atmosphere from being stripped away and protecting life on the surface.\n",
       "        *   **Plate Tectonics:** The movement of Earth's crustal plates constantly reshapes the surface, contributing to geological cycles that are important for regulating climate and providing nutrients.\n",
       "\n",
       "4.  **Internal Structure:**\n",
       "    *   Earth has a layered structure:\n",
       "        *   **Crust:** The thin, outermost layer we live on.\n",
       "        *   **Mantle:** A thick, semi-solid layer beneath the crust, where convection currents drive plate tectonics.\n",
       "        *   **Outer Core:** A liquid layer of molten iron and nickel.\n",
       "        *   **Inner Core:** A solid sphere of iron and nickel at the very center, intensely hot and under immense pressure.\n",
       "\n",
       "5.  **Motion and Seasons:**\n",
       "    *   **Rotation:** Earth spins on its axis, completing one rotation approximately every 24 hours, giving us day and night.\n",
       "    *   **Revolution:** Earth orbits the Sun, completing one revolution approximately every 365.25 days, defining a year.\n",
       "    *   **Axial Tilt:** Earth's axis is tilted at about 23.5 degrees relative to its orbit. This tilt is responsible for the changing seasons we experience throughout the year.\n",
       "\n",
       "6.  **Our Moon:**\n",
       "    *   Earth has **one natural satellite, the Moon**, which plays a significant role in stabilizing Earth's axial tilt (contributing to a stable climate) and creating ocean tides.\n",
       "\n",
       "7.  **Age and Formation:**\n",
       "    *   Earth is estimated to be approximately **4.54 billion years old**. It formed from the accretion of dust and gas in the early solar nebula.\n",
       "\n",
       "8.  **Dynamic Systems:**\n",
       "    *   Earth is a constantly changing planet with active geological processes (volcanoes, earthquakes, mountain building), weather systems (hurricanes, storms), and biological cycles.\n",
       "    *   The **hydrological cycle** (water cycle) and **carbon cycle** are vital for distributing resources and regulating climate.\n",
       "\n",
       "9.  **Human Impact:**\n",
       "    *   With a current population of over 8 billion people, humanity has become a dominant force shaping Earth's environment. This includes significant impacts on climate, biodiversity, resource consumption, and pollution.\n",
       "\n",
       "In essence, Earth is a complex, interconnected system where geology, atmosphere, oceans, and life interact in intricate ways, making it a unique and precious home in the vastness of the cosmos."
      ],
      "text/plain": [
       "<IPython.core.display.Markdown object>"
      ]
     },
     "metadata": {},
     "output_type": "display_data"
    }
   ],
   "source": [
    "prompt = \"Tell me about Earth\"\n",
    "\n",
    "response = client.models.generate_content(model=MODEL_ID, contents=prompt)\n",
    "display(Markdown(response.text))"
   ]
  },
  {
   "cell_type": "markdown",
   "metadata": {
    "id": "4iyvEbteZnFL"
   },
   "source": [
    "✅ Recommended. The prompt below is specific and well-defined."
   ]
  },
  {
   "cell_type": "code",
   "execution_count": 15,
   "metadata": {
    "id": "JQ80z8urZnne"
   },
   "outputs": [
    {
     "data": {
      "text/markdown": [
       "Earth is a truly remarkable and, as far as we currently know, unique planet in our solar system and perhaps beyond. Its uniqueness stems from a confluence of factors that have created and sustained a vibrant biosphere.\n",
       "\n",
       "Here are some ways Earth is unique compared to other planets:\n",
       "\n",
       "1.  **Abundant, Stable Surface Liquid Water:** While other celestial bodies have ice or even subsurface oceans (like Europa or Enceladus), Earth is the only known planet with vast quantities of stable liquid water on its surface. This is thanks to its \"Goldilocks\" zone orbital position and a dense enough atmosphere to maintain pressure and temperature. Liquid water is crucial for life as we know it.\n",
       "\n",
       "2.  **Active Plate Tectonics:** Earth is the only planet in our solar system with active, ongoing plate tectonics. This geological process constantly recycles the planet's crust, drives volcanism, creates diverse landforms (mountains, trenches), and plays a crucial role in regulating Earth's climate over geological timescales by influencing the carbon cycle. Other rocky planets like Mars or Venus have static crusts or show signs of different, less continuous resurfacing.\n",
       "\n",
       "3.  **A Nitrogen-Oxygen Rich Atmosphere with a Breathable Pressure:** Unlike the thin, mostly CO2 atmosphere of Mars, the extremely thick CO2 atmosphere of Venus, or the hydrogen/helium atmospheres of the gas giants, Earth's atmosphere is roughly 78% nitrogen, 21% oxygen, and trace gases. This specific composition, especially the high oxygen content, is a direct result of biological activity (photosynthesis) and is essential for complex life. The atmospheric pressure is also just right to allow liquid water to exist on the surface.\n",
       "\n",
       "4.  **A Strong, Global Magnetic Field (Magnetosphere):** Generated by its liquid iron outer core, Earth's magnetosphere deflects harmful charged particles from the solar wind and cosmic rays. This protective shield is vital for preventing atmospheric erosion and protecting life from radiation. While gas giants have strong magnetic fields, and Mercury has a weak one, Earth is the only *rocky* planet in our solar system with such a robust and active planetary dynamo protecting its atmosphere.\n",
       "\n",
       "5.  **A Large Moon (The Moon) Relative to its Planet's Size:** Earth's Moon is unusually large compared to its parent planet. This large moon stabilizes Earth's axial tilt, preventing dramatic wobbles that could cause extreme climate shifts over short timescales. It also creates significant tides, which may have played a role in the emergence of life from the oceans.\n",
       "\n",
       "6.  **The Presence of Complex, Diverse, and Intelligent Life:** This is the most obvious and profound uniqueness. Earth is the only known celestial body teeming with life, from single-celled organisms to complex multicellular beings, and ultimately, intelligent, technologically advanced civilization (humans). The sheer biodiversity and the long evolutionary history leading to complex ecosystems are unparalleled.\n",
       "\n",
       "7.  **Long-Term Geological and Climatic Stability:** The combination of plate tectonics, a stable axial tilt due to the Moon, a protective magnetosphere, and the carbon cycle regulation has allowed Earth to maintain relatively stable conditions (within ranges suitable for life) for billions of years, providing the time necessary for complex life to evolve and diversify.\n",
       "\n",
       "In essence, Earth is a uniquely interactive system where geology, atmosphere, water, and life are deeply intertwined, each influencing and enabling the others to create the vibrant, living planet we inhabit."
      ],
      "text/plain": [
       "<IPython.core.display.Markdown object>"
      ]
     },
     "metadata": {},
     "output_type": "display_data"
    }
   ],
   "source": [
    "prompt = \"Generate a list of ways that makes Earth unique compared to other planets\"\n",
    "\n",
    "response = client.models.generate_content(model=MODEL_ID, contents=prompt)\n",
    "display(Markdown(response.text))"
   ]
  },
  {
   "cell_type": "markdown",
   "metadata": {
    "id": "R5kmfZYHZsJ7"
   },
   "source": [
    "### Ask one task at a time"
   ]
  },
  {
   "cell_type": "markdown",
   "metadata": {
    "id": "rsAezxeYZuUN"
   },
   "source": [
    "🛑 Not recommended. The prompt below has two parts to the question that could be asked separately."
   ]
  },
  {
   "cell_type": "code",
   "execution_count": 16,
   "metadata": {
    "id": "ElywPXpuZtWf"
   },
   "outputs": [
    {
     "data": {
      "text/markdown": [
       "Let's break down both questions!\n",
       "\n",
       "## Best Method of Boiling Water\n",
       "\n",
       "The \"best\" method really depends on your priorities: **speed, energy efficiency, convenience, quantity, and safety.**\n",
       "\n",
       "Here's a breakdown of common methods and their pros/cons:\n",
       "\n",
       "1.  **Electric Kettle:**\n",
       "    *   **Pros:**\n",
       "        *   **Fastest:** Especially for 1-2 liters. The heating element is directly in the water, and the design minimizes heat loss.\n",
       "        *   **Most Energy Efficient:** Very little heat is lost to the surroundings compared to a stovetop.\n",
       "        *   **Convenient:** Plugs into any outlet, often has automatic shut-off, easy to pour.\n",
       "        *   **Safe:** Automatic shut-off prevents boiling dry.\n",
       "    *   **Cons:**\n",
       "        *   Limited capacity (usually 1-2 liters).\n",
       "        *   Another appliance to store.\n",
       "    *   **Best For:** Everyday use, quick hot drinks, small to medium quantities.\n",
       "    *   **Conclusion: Often considered the all-around \"best\" for typical household use due to speed and efficiency.**\n",
       "\n",
       "2.  **Stovetop (Pot on Gas/Electric Hob):**\n",
       "    *   **Pros:**\n",
       "        *   **Versatile:** Can boil any quantity of water as long as you have a pot big enough.\n",
       "        *   **Common:** Most kitchens have a stovetop.\n",
       "        *   **No additional appliance needed** (beyond a pot).\n",
       "    *   **Cons:**\n",
       "        *   **Slower** than an electric kettle, as heat is transferred from the burner to the pot, then to the water (significant heat loss to the air).\n",
       "        *   **Less Energy Efficient** than electric kettles.\n",
       "        *   Requires more attention (no auto-shutoff).\n",
       "    *   **Best For:** Large quantities of water (e.g., for pasta), or if you don't have an electric kettle.\n",
       "\n",
       "3.  **Induction Cooktop (Stovetop variant):**\n",
       "    *   **Pros:**\n",
       "        *   **Very Fast:** Comparable to, or even faster than, an electric kettle for larger quantities. Direct magnetic heating of the pot.\n",
       "        *   **Highly Energy Efficient:** Minimal heat loss to the air.\n",
       "        *   Precise temperature control.\n",
       "    *   **Cons:**\n",
       "        *   Requires induction-compatible cookware.\n",
       "        *   Can be expensive to install initially.\n",
       "    *   **Best For:** Fast, efficient boiling of various quantities, if you have an induction hob.\n",
       "\n",
       "4.  **Microwave:**\n",
       "    *   **Pros:**\n",
       "        *   Convenient for very small quantities (e.g., a single mug).\n",
       "        *   Doesn't require an extra appliance if you already have a microwave.\n",
       "    *   **Cons:**\n",
       "        *   **Slow** for anything more than a cup.\n",
       "        *   **Uneven heating:** Can create \"hot spots.\"\n",
       "        *   **No rolling boil:** The water often doesn't reach a true rolling boil as efficiently.\n",
       "        *   **Safety Risk (Superheating):** Water in a smooth container can be heated above its boiling point without visibly boiling. A slight disturbance (like adding a teabag) can cause it to suddenly and explosively boil over, leading to severe burns.\n",
       "    *   **Best For:** Absolutely last resort for a single cup if no other method is available, and with extreme caution.\n",
       "    *   **Conclusion: Generally NOT recommended for boiling water due to safety concerns and inefficiency.**\n",
       "\n",
       "**Summary of \"Best\":**\n",
       "\n",
       "*   **For speed and energy efficiency in typical home use (1-2 liters): The Electric Kettle.**\n",
       "*   **For large quantities or general versatility: A Stovetop pot (especially Induction if available).**\n",
       "\n",
       "---\n",
       "\n",
       "## Why is the Sky Blue?\n",
       "\n",
       "The blue color of the sky is due to a phenomenon called **Rayleigh Scattering**.\n",
       "\n",
       "Here's a breakdown:\n",
       "\n",
       "1.  **Sunlight is White:** Sunlight appears white to us, but it's actually made up of all the colors of the rainbow, each with a different wavelength (from violet/blue with shorter, tighter waves to red/orange with longer, more spread-out waves).\n",
       "\n",
       "2.  **Earth's Atmosphere:** Our atmosphere is composed of tiny gas molecules (like nitrogen and oxygen) and microscopic particles.\n",
       "\n",
       "3.  **Scattering:** When sunlight enters the atmosphere, it collides with these molecules and particles. This causes the light to scatter in all directions.\n",
       "\n",
       "4.  **Wavelength and Scattering Efficiency:**\n",
       "    *   **Shorter wavelengths (blue and violet light) scatter much more efficiently than longer wavelengths (red, orange, and yellow light).** Think of it like this: the tiny air molecules are more effective at scattering the smaller, tighter waves of blue light than the larger, more stretched-out waves of red light. Blue light is scattered about 10 times more effectively than red light.\n",
       "\n",
       "5.  **Why Blue, Not Violet?**\n",
       "    *   Violet light actually scatters even *more* than blue light. So, why isn't the sky violet?\n",
       "        *   **Sun's Emission:** The Sun emits slightly less violet light than blue light.\n",
       "        *   **Our Eyes' Sensitivity:** Our eyes are more sensitive to blue light than to violet light.\n",
       "    *   Because of these two factors, the scattered light that reaches our eyes appears predominantly blue.\n",
       "\n",
       "6.  **The Result:** As sunlight travels through the atmosphere, the blue and violet light gets scattered in every direction. This scattered blue light reaches our eyes from all parts of the sky, making the sky appear blue. The other colors (yellow, orange, red) continue to travel more or less in a straight line, which is why the sun itself appears yellowish.\n",
       "\n",
       "**What about Sunsets and Sunrises?**\n",
       "When the sun is low on the horizon (at sunrise or sunset), its light has to travel through *much more* of the atmosphere. By the time it reaches your eyes, most of the blue and violet light has already been scattered away, leaving primarily the longer wavelengths of red, orange, and yellow light to pass through, creating the beautiful colors we see."
      ],
      "text/plain": [
       "<IPython.core.display.Markdown object>"
      ]
     },
     "metadata": {},
     "output_type": "display_data"
    }
   ],
   "source": [
    "prompt = \"What's the best method of boiling water and why is the sky blue?\"\n",
    "\n",
    "response = client.models.generate_content(model=MODEL_ID, contents=prompt)\n",
    "display(Markdown(response.text))"
   ]
  },
  {
   "cell_type": "markdown",
   "metadata": {
    "id": "ejzahazBZ8vk"
   },
   "source": [
    "✅ Recommended. The prompts below asks one task a time."
   ]
  },
  {
   "cell_type": "code",
   "execution_count": 17,
   "metadata": {
    "id": "C5ckp2F0Z_Ba"
   },
   "outputs": [
    {
     "data": {
      "text/markdown": [
       "The \"best\" method for boiling water really depends on your priorities: speed, energy efficiency, convenience, quantity, and whether you have access to electricity or fuel.\n",
       "\n",
       "Here's a breakdown of the most common methods, along with their pros and cons:\n",
       "\n",
       "### Top Contenders (For Everyday Use)\n",
       "\n",
       "1.  **Electric Kettle**\n",
       "    *   **Pros:**\n",
       "        *   **Speed:** Generally the fastest method for small to medium quantities (1-2 liters).\n",
       "        *   **Energy Efficiency:** Highly efficient as it only heats the water directly and often has good insulation. Uses less energy than boiling the same amount on a stovetop.\n",
       "        *   **Convenience:** Automatic shut-off when boiling, cordless jugs, easy to clean.\n",
       "        *   **Safety:** Designed specifically for water, less risk of boiling dry (due to auto-shutoff).\n",
       "    *   **Cons:**\n",
       "        *   Requires an electrical outlet.\n",
       "        *   Initial purchase cost.\n",
       "        *   Not ideal for very large quantities (e.g., a huge pot for pasta).\n",
       "    *   **Best For:** Everyday hot drinks, single servings of ramen, convenience, speed, and energy saving in most modern kitchens.\n",
       "\n",
       "2.  **Stovetop (Pot with Lid)**\n",
       "    *   **Types:** Gas, Electric Coil, Induction\n",
       "    *   **Pros:**\n",
       "        *   **Versatility:** Can be used with any size pot, making it ideal for very large quantities (e.g., boiling water for pasta, blanching vegetables).\n",
       "        *   **No Special Appliance:** You likely already have a stove and pot.\n",
       "        *   **Induction:** If you have an induction stove, this can be incredibly fast and efficient due to direct heating of the pot.\n",
       "    *   **Cons:**\n",
       "        *   **Speed:** Generally slower than an electric kettle for small quantities.\n",
       "        *   **Energy Efficiency:** Less efficient than an electric kettle because heat escapes from the sides of the pot and warms the air.\n",
       "        *   **Supervision:** Requires more attention to prevent boiling over or boiling dry.\n",
       "        *   **Electric Coil:** The slowest and least efficient stovetop method.\n",
       "    *   **Best For:** Boiling large quantities of water, when an electric kettle isn't available, or when specific stovetop cooking is required.\n",
       "\n",
       "### Other Methods\n",
       "\n",
       "3.  **Microwave**\n",
       "    *   **Pros:**\n",
       "        *   **Convenience:** Quick for very small quantities (e.g., a single mug).\n",
       "        *   **No Extra Appliances:** Uses existing microwave.\n",
       "    *   **Cons:**\n",
       "        *   **Safety Risk (Superheating):** Water can become superheated (heated above its boiling point without actually bubbling), and then erupt violently when disturbed (e.g., when adding a tea bag or spoon). This is a serious burn hazard.\n",
       "        *   **No Rolling Boil:** Doesn't produce a true rolling boil, which is important for some applications (like sterilizing).\n",
       "        *   **Inefficient:** Not energy efficient for larger quantities due to uneven heating.\n",
       "    *   **Best For:** *Generally not recommended for boiling water alone due to superheating risk.* If you must, place a non-metallic object (like a wooden stir stick or ceramic spoon) in the mug to provide nucleation sites for bubbles.\n",
       "\n",
       "4.  **Immersion Heater**\n",
       "    *   **Pros:**\n",
       "        *   **Portability:** Very compact and easy to travel with.\n",
       "        *   **Direct Heating:** Heats water directly in a mug or small pot.\n",
       "    *   **Cons:**\n",
       "        *   **Safety:** Can be dangerous if left unattended, or if the water level drops too low. Risk of electrocution if not used carefully. Not common in most homes.\n",
       "        *   **Supervision:** Requires constant attention.\n",
       "    *   **Best For:** Travel, emergencies, or situations where no other method is available.\n",
       "\n",
       "5.  **Open Fire / Campfire**\n",
       "    *   **Pros:**\n",
       "        *   **Off-Grid:** Doesn't require electricity or gas.\n",
       "        *   **Atmosphere:** Good for camping or outdoor use.\n",
       "    *   **Cons:**\n",
       "        *   **Slow & Inefficient:** Requires fuel, time, and fire management.\n",
       "        *   **Messy:** Produces smoke and soot.\n",
       "    *   **Best For:** Camping, survival situations, or outdoor cooking.\n",
       "\n",
       "### Conclusion: What's \"Best\"?\n",
       "\n",
       "*   **For speed and energy efficiency in a typical home kitchen:** An **Electric Kettle** is usually the best choice for small to medium quantities.\n",
       "*   **For large quantities or if you don't have an electric kettle:** A **Stovetop (especially Induction or Gas)** with a lid is the best option.\n",
       "*   **For safety, avoid the microwave for boiling plain water if possible.**\n",
       "\n",
       "No matter the method, always remember:\n",
       "\n",
       "*   **Use a Lid:** Covering the pot/kettle will significantly speed up boiling and save energy by trapping heat.\n",
       "*   **Boil Only What You Need:** Don't overfill, as it wastes energy and time.\n",
       "*   **Safety First:** Be mindful of hot steam and boiling water to prevent burns.\n",
       "*   **Altitude:** At higher altitudes, water boils at a lower temperature."
      ],
      "text/plain": [
       "<IPython.core.display.Markdown object>"
      ]
     },
     "metadata": {},
     "output_type": "display_data"
    }
   ],
   "source": [
    "prompt = \"What's the best method of boiling water?\"\n",
    "\n",
    "response = client.models.generate_content(model=MODEL_ID, contents=prompt)\n",
    "display(Markdown(response.text))"
   ]
  },
  {
   "cell_type": "code",
   "execution_count": 18,
   "metadata": {
    "id": "KwUzhud4aA89"
   },
   "outputs": [
    {
     "data": {
      "text/markdown": [
       "The sky appears blue due to a phenomenon called **Rayleigh scattering**. Here's a breakdown:\n",
       "\n",
       "1.  **Sunlight is White Light:** Sunlight, which appears white to us, is actually made up of all the colors of the rainbow (red, orange, yellow, green, blue, indigo, violet). Each color has a different wavelength – red has the longest wavelength, and violet/blue have the shortest.\n",
       "\n",
       "2.  **Earth's Atmosphere:** Our atmosphere is composed of tiny molecules, primarily nitrogen (N2) and oxygen (O2), along with other gases. These molecules are much smaller than the wavelengths of visible light.\n",
       "\n",
       "3.  **Rayleigh Scattering:** When sunlight enters the Earth's atmosphere, these tiny air molecules scatter the light. Rayleigh scattering states that light with shorter wavelengths (like blue and violet) is scattered much more efficiently and in all directions than light with longer wavelengths (like red and yellow).\n",
       "    *   Imagine a small stone in a stream. A big log (red light) will pass by it easily. But tiny ripples (blue light) will be bounced and scattered much more dramatically by the stone.\n",
       "\n",
       "4.  **Why Blue (and not Violet)?**\n",
       "    *   Violet light actually scatters even more than blue light.\n",
       "    *   However, our sun emits more blue light than violet light.\n",
       "    *   Our eyes are also more sensitive to blue light than to violet light.\n",
       "    *   Therefore, the combination of these factors makes the sky appear predominantly blue to our eyes.\n",
       "\n",
       "5.  **Why the Whole Sky is Blue:** Because blue light is scattered in all directions, no matter where you look in the sky, some of that scattered blue light reaches your eyes. This is why the sky appears blue above you.\n",
       "\n",
       "6.  **What Happens to Other Colors?** The longer wavelengths (yellow, orange, red) are not scattered as much. They tend to pass straight through the atmosphere to our eyes.\n",
       "\n",
       "**What about Sunrise and Sunset?**\n",
       "\n",
       "At sunrise and sunset, the sunlight has to travel through much more of the Earth's atmosphere to reach your eyes. This means that even more of the blue and green light is scattered away, leaving primarily the longer wavelength colors (reds, oranges, and yellows) to reach your eyes directly. This is why we see those beautiful fiery colors near the horizon during dawn and dusk."
      ],
      "text/plain": [
       "<IPython.core.display.Markdown object>"
      ]
     },
     "metadata": {},
     "output_type": "display_data"
    }
   ],
   "source": [
    "prompt = \"Why is the sky blue?\"\n",
    "\n",
    "response = client.models.generate_content(model=MODEL_ID, contents=prompt)\n",
    "display(Markdown(response.text))"
   ]
  },
  {
   "cell_type": "markdown",
   "metadata": {
    "id": "PJIL2RTQaGcT"
   },
   "source": [
    "### Watch out for hallucinations"
   ]
  },
  {
   "cell_type": "markdown",
   "metadata": {
    "id": "8Y8kYxrSaHE9"
   },
   "source": [
    "Although LLMs have been trained on a large amount of data, they can generate text containing statements not grounded in truth or reality; these responses from the LLM are often referred to as \"hallucinations\" due to their limited memorization capabilities. Note that simply prompting the LLM to provide a citation isn't a fix to this problem, as there are instances of LLMs providing false or inaccurate citations. Dealing with hallucinations is a fundamental challenge of LLMs and an ongoing research area, so it is important to be cognizant that LLMs may seem to give you confident, correct-sounding statements that are in fact incorrect.\n",
    "\n",
    "Note that if you intend to use LLMs for the creative use cases, hallucinating could actually be quite useful."
   ]
  },
  {
   "cell_type": "markdown",
   "metadata": {
    "id": "8NY5nAGeaJYS"
   },
   "source": [
    "Try the prompt like the one below repeatedly. We set the temperature to `1.0` so that it takes more risks in its choices. It's possible that it may provide an inaccurate, but confident answer."
   ]
  },
  {
   "cell_type": "code",
   "execution_count": 19,
   "metadata": {
    "id": "QALPjEILaM62"
   },
   "outputs": [
    {
     "data": {
      "text/markdown": [
       "As an AI, I don't have real-time access to the current date and time. To find out what day it is today, please check your computer's clock, your phone, or a calendar!"
      ],
      "text/plain": [
       "<IPython.core.display.Markdown object>"
      ]
     },
     "metadata": {},
     "output_type": "display_data"
    }
   ],
   "source": [
    "generation_config = GenerateContentConfig(temperature=1.0)\n",
    "\n",
    "prompt = \"What day is it today?\"\n",
    "\n",
    "response = client.models.generate_content(model=MODEL_ID, contents=prompt)\n",
    "display(Markdown(response.text))"
   ]
  },
  {
   "cell_type": "markdown",
   "metadata": {
    "id": "BRkwzbgRbhKt"
   },
   "source": [
    "Since LLMs do not have access to real-time information without further integrations, you may have noticed it hallucinates what day it is today in some of the outputs."
   ]
  },
  {
   "cell_type": "markdown",
   "metadata": {
    "id": "3c811e310d02"
   },
   "source": [
    "### Using system instructions to guardrail the model from irrelevant responses\n",
    "\n",
    "How can we attempt to reduce the chances of irrelevant responses and hallucinations?\n",
    "\n",
    "One way is to provide the LLM with [system instructions](https://cloud.google.com/vertex-ai/generative-ai/docs/learn/prompts/system-instruction-introduction).\n",
    "\n",
    "Let's see how system instructions works and how you can use them to reduce hallucinations or irrelevant questions for a travel chatbot.\n",
    "\n",
    "Suppose we ask a simple question about one of Italy's most famous tourist spots."
   ]
  },
  {
   "cell_type": "code",
   "execution_count": 20,
   "metadata": {
    "id": "rB6zJU76biFK"
   },
   "outputs": [
    {
     "data": {
      "text/markdown": [
       "Milan is a fantastic city for sightseeing! One of the most iconic and popular places is the **Duomo di Milano (Milan Cathedral)**.\n",
       "\n",
       "Here are a few reasons why it's a must-see:\n",
       "*   **Stunning Architecture:** It's a breathtaking Gothic cathedral, one of the largest in the world, with intricate spires, statues, and stained glass windows.\n",
       "*   **Rooftop Views:** You can take an elevator or stairs to the rooftop for incredible panoramic views of the city, and on a clear day, even the Alps.\n",
       "*   **Central Location:** It's located in the very heart of Milan, making it easy to access and a great starting point for exploring other nearby attractions like the Galleria Vittorio Emanuele II.\n",
       "\n",
       "Other highly recommended sightseeing spots in Milan include:\n",
       "*   **Galleria Vittorio Emanuele II:** A beautiful and historic shopping arcade right next to the Duomo.\n",
       "*   **Santa Maria delle Grazie:** Home to Leonardo da Vinci's \"The Last Supper\" (remember to book tickets well in advance!).\n",
       "*   **Sforza Castle (Castello Sforzesco):** A historical fortress with several museums and art collections.\n",
       "\n",
       "Enjoy your trip to Milan!"
      ],
      "text/plain": [
       "<IPython.core.display.Markdown object>"
      ]
     },
     "metadata": {},
     "output_type": "display_data"
    }
   ],
   "source": [
    "generation_config = GenerateContentConfig(temperature=1.0)\n",
    "\n",
    "chat = client.chats.create(\n",
    "    model=MODEL_ID,\n",
    "    config=GenerateContentConfig(\n",
    "        system_instruction=[\n",
    "            \"Hello! You are an AI chatbot for a travel web site.\",\n",
    "            \"Your mission is to provide helpful queries for travelers.\",\n",
    "            \"Remember that before you answer a question, you must check to see if it complies with your mission.\",\n",
    "            \"If not, you can say, Sorry I can't answer that question.\",\n",
    "        ]\n",
    "    ),\n",
    ")\n",
    "\n",
    "prompt = \"What is the best place for sightseeing in Milan, Italy?\"\n",
    "\n",
    "response = chat.send_message(prompt)\n",
    "display(Markdown(response.text))"
   ]
  },
  {
   "cell_type": "markdown",
   "metadata": {
    "id": "WZa-Qcf9cF4A"
   },
   "source": [
    "Now let us pretend to be a user asks the chatbot a question that is unrelated to travel."
   ]
  },
  {
   "cell_type": "code",
   "execution_count": 21,
   "metadata": {
    "id": "AZKBIDr2cGnu"
   },
   "outputs": [
    {
     "data": {
      "text/markdown": [
       "Sorry, I can't answer that question. My purpose is to provide helpful information for travelers."
      ],
      "text/plain": [
       "<IPython.core.display.Markdown object>"
      ]
     },
     "metadata": {},
     "output_type": "display_data"
    }
   ],
   "source": [
    "prompt = \"How do I make pizza dough at home?\"\n",
    "\n",
    "response = chat.send_message(prompt)\n",
    "display(Markdown(response.text))"
   ]
  },
  {
   "cell_type": "markdown",
   "metadata": {
    "id": "JiUYIhwpctCy"
   },
   "source": [
    "You can see that this way, a guardrail in the prompt prevented the chatbot from veering off course."
   ]
  },
  {
   "cell_type": "markdown",
   "metadata": {
    "id": "ZuuDhA37cvmP"
   },
   "source": [
    "### Turn generative tasks into classification tasks to reduce output variability"
   ]
  },
  {
   "cell_type": "markdown",
   "metadata": {
    "id": "kUCUrsUzczmb"
   },
   "source": [
    "#### Generative tasks lead to higher output variability"
   ]
  },
  {
   "cell_type": "markdown",
   "metadata": {
    "id": "a1xASHAkc46n"
   },
   "source": [
    "The prompt below results in an open-ended response, useful for brainstorming, but response is highly variable."
   ]
  },
  {
   "cell_type": "code",
   "execution_count": 22,
   "metadata": {
    "id": "nPfXQWIacwRf"
   },
   "outputs": [
    {
     "data": {
      "text/markdown": [
       "That's fantastic! Programming is an incredibly rewarding skill, and high school is the perfect time to dive in. The best activity depends on what you enjoy and what skills you want to build, but here are a few highly recommended options, broken down by type:\n",
       "\n",
       "---\n",
       "\n",
       "### **Option 1: Build a Personal Project (Highly Recommended for Overall Skill Growth)**\n",
       "\n",
       "This is the absolute best way to learn because it forces you to apply concepts, problem-solve, and deal with real-world coding challenges.\n",
       "\n",
       "**Why it's great:**\n",
       "*   **Motivation:** You're building something *you* want.\n",
       "*   **Holistic Learning:** Covers design, planning, coding, debugging, and iteration.\n",
       "*   **Portfolio:** You'll have something tangible to show.\n",
       "\n",
       "**Ideas for High Schoolers:**\n",
       "\n",
       "1.  **Text-Based Adventure Game:**\n",
       "    *   **Skills:** Logic, `if/else` statements, loops, functions, data structures (lists/dictionaries for inventory), user input, state management.\n",
       "    *   **How to start:** Pick Python. Learn `input()`, `print()`, basic conditionals. Design a simple story with choices (e.g., \"You're in a room. Go left or right?\"). Add inventory, simple combat, or puzzles.\n",
       "    *   **Example:** A simple \"escape the room\" game, or a choose-your-own-adventure story.\n",
       "\n",
       "2.  **A Simple Utility Tool:**\n",
       "    *   **Skills:** User interfaces (even command-line based), string manipulation, file I/O (reading/writing to files), error handling, basic algorithms.\n",
       "    *   **How to start:** Python is great for this.\n",
       "    *   **Examples:**\n",
       "        *   **Password Generator:** Takes user input for length/complexity, generates a random password.\n",
       "        *   **To-Do List App:** Allows adding, deleting, and viewing tasks. Can save to a text file.\n",
       "        *   **Basic Calculator:** Handles `+`, `-`, `*`, `/`.\n",
       "        *   **Unit Converter:** Converts Fahrenheit to Celsius, miles to kilometers, etc.\n",
       "\n",
       "3.  **Simple Web Page / Interactive Frontend:**\n",
       "    *   **Skills:** HTML (structure), CSS (styling), JavaScript (interactivity), understanding how web pages work.\n",
       "    *   **How to start:** You just need a text editor and a browser. Follow a \"build your first website\" tutorial.\n",
       "    *   **Examples:**\n",
       "        *   **Personal Portfolio Page:** A single page about yourself, your hobbies, and maybe links to your projects.\n",
       "        *   **Interactive Quiz:** JavaScript to check answers and show scores.\n",
       "        *   **Simple \"Clicker\" Game:** Click a button to increment a counter.\n",
       "\n",
       "**How to approach any project:**\n",
       "*   **Start SUPER Small:** Don't try to build the next Facebook. Build the tiniest functional piece, then add to it.\n",
       "*   **Break It Down:** \"Build a To-Do List\" becomes: 1. Display menu. 2. Add task. 3. View tasks. 4. Delete task. 5. Save/Load tasks.\n",
       "*   **Google Everything:** This is your superpower. Stuck on something? Google \"how to read a file in Python\" or \"JavaScript change div content\".\n",
       "*   **Debug Religiously:** Expect errors. Learning to read error messages and use `print()` statements (or a debugger) is crucial.\n",
       "\n",
       "---\n",
       "\n",
       "### **Option 2: Competitive Programming / Problem-Solving Platforms**\n",
       "\n",
       "These platforms give you specific problems to solve, testing your logic, algorithms, and efficiency.\n",
       "\n",
       "**Why it's great:**\n",
       "*   **Logic & Algorithms:** Sharpen your core problem-solving skills.\n",
       "*   **Efficiency:** Learn about different ways to solve a problem and which is best.\n",
       "*   **Discipline:** Forces you to write correct and concise code.\n",
       "\n",
       "**Recommended Platforms:**\n",
       "\n",
       "1.  **HackerRank / LeetCode (Start with \"Easy\" problems):**\n",
       "    *   **Focus:** Data structures, algorithms, mathematical logic.\n",
       "    *   **How to start:** Pick your favorite language (Python is very beginner-friendly for this). Start with their \"warm-up\" or \"easy\" challenges. Don't be afraid to look at solutions *after* you've struggled.\n",
       "    *   **Example Problems:** \"FizzBuzz\", \"Sum of array elements\", \"Palindrome check\".\n",
       "\n",
       "2.  **Codewars:**\n",
       "    *   **Focus:** Similar to HackerRank/LeetCode but often with more creative or specific problem types. You also get to see other people's solutions, which is a fantastic learning tool.\n",
       "    *   **How to start:** Choose a language, tackle \"8 kyu\" (easiest) problems.\n",
       "\n",
       "3.  **Project Euler:**\n",
       "    *   **Focus:** Mathematical and computational problems.\n",
       "    *   **How to start:** If you like math, this is great. Problems are number-based and require clever algorithms rather than just brute force.\n",
       "\n",
       "---\n",
       "\n",
       "### **Option 3: Dive into Game Development (If you love games!)**\n",
       "\n",
       "**Why it's great:**\n",
       "*   **Extremely Motivating:** Seeing your game come to life is addictive.\n",
       "*   **Visual Feedback:** Immediate results of your code.\n",
       "*   **Broad Skills:** Logic, physics, graphics, user interaction, animation.\n",
       "\n",
       "**Ideas:**\n",
       "\n",
       "1.  **Pygame (Python):**\n",
       "    *   **Skills:** Event handling (keyboard/mouse input), drawing graphics, basic animation, game loops, collision detection.\n",
       "    *   **How to start:** Plenty of tutorials for \"Python Pygame basics\" or \"build your first Pygame.\"\n",
       "    *   **Examples:** Tic-Tac-Toe, Pong, Space Invaders clone, platformer.\n",
       "\n",
       "2.  **Scratch (If you're a complete beginner):**\n",
       "    *   **Skills:** Drag-and-drop block coding, fundamental programming concepts (loops, conditionals, events), creativity.\n",
       "    *   **How to start:** Online platform, very intuitive. Great for getting a feel for logic before moving to text-based languages.\n",
       "\n",
       "---\n",
       "\n",
       "### **General Tips for Success:**\n",
       "\n",
       "1.  **Pick ONE thing and stick with it for a while:** Don't jump between 10 tutorials. Finish a small project or a set of problems.\n",
       "2.  **Learn Version Control (Git & GitHub):** Seriously, this is a core skill for any programmer. Even for personal projects, it helps track changes and prevents losing work. You can host your projects on GitHub and show them off!\n",
       "3.  **Don't Just Copy-Paste:** When following a tutorial, type out the code yourself. Try to understand *why* each line is there. Then, *change* it to see what happens.\n",
       "4.  **Ask for Help:** Don't sit for hours stuck. Use online forums (Stack Overflow), ask a teacher, or a friend who codes.\n",
       "5.  **Be Patient & Persistent:** Programming is about solving problems. You *will* get stuck. You *will* make mistakes. That's part of the learning process. The ability to push through is more important than raw intelligence.\n",
       "6.  **Read Code:** Look at how other people (especially experienced programmers) write code. This is how you learn best practices.\n",
       "\n",
       "---\n",
       "\n",
       "**To help me give you even more tailored advice, tell me:**\n",
       "\n",
       "*   **What programming language(s) are you currently familiar with (if any)?**\n",
       "*   **What areas of technology interest you most (games, web, mobile, data, AI, etc.)?**\n",
       "\n",
       "Good luck, and have fun coding!"
      ],
      "text/plain": [
       "<IPython.core.display.Markdown object>"
      ]
     },
     "metadata": {},
     "output_type": "display_data"
    }
   ],
   "source": [
    "prompt = \"I'm a high school student. Recommend me a programming activity to improve my skills.\"\n",
    "\n",
    "response = client.models.generate_content(model=MODEL_ID, contents=prompt)\n",
    "display(Markdown(response.text))"
   ]
  },
  {
   "cell_type": "markdown",
   "metadata": {
    "id": "iAmm9wPYc_1o"
   },
   "source": [
    "#### Classification tasks reduces output variability"
   ]
  },
  {
   "cell_type": "markdown",
   "metadata": {
    "id": "VvRpK_0GdCpf"
   },
   "source": [
    "The prompt below results in a choice and may be useful if you want the output to be easier to control."
   ]
  },
  {
   "cell_type": "code",
   "execution_count": 23,
   "metadata": {
    "id": "kYDKh0r2dAqo"
   },
   "outputs": [
    {
     "data": {
      "text/markdown": [
       "That's a fantastic question and a great initiative to start learning programming!\n",
       "\n",
       "For a high school student, my **strongest recommendations are (a) Python and (b) JavaScript**, depending on your interests. **(c) Fortran is generally not the best starting point** for most high schoolers.\n",
       "\n",
       "Here's why:\n",
       "\n",
       "---\n",
       "\n",
       "### **a) Learn Python (Highly Recommended)**\n",
       "\n",
       "**Why it's great for you:**\n",
       "\n",
       "1.  **Beginner-Friendly Syntax:** Python is renowned for its readability. Its syntax is very clean and almost like plain English, making it easier for new programmers to grasp fundamental concepts without getting bogged down by complex grammar.\n",
       "2.  **Incredibly Versatile:** Python is used in almost every field imaginable:\n",
       "    *   **Web Development (Backend):** Frameworks like Django and Flask power many popular websites.\n",
       "    *   **Data Science & AI/Machine Learning:** This is where Python truly shines. It's the go-to language for analyzing data, building predictive models, and creating AI applications (e.g., facial recognition, recommendation systems). This area is booming!\n",
       "    *   **Automation & Scripting:** You can write scripts to automate repetitive tasks on your computer.\n",
       "    *   **Game Development:** Simple games can be made with libraries like Pygame.\n",
       "    *   **Education:** It's often the first language taught in universities and introductory computer science courses because it builds strong foundational logic.\n",
       "3.  **Massive Community & Resources:** Because it's so popular, there's an enormous amount of online tutorials, courses, documentation, and a supportive community to help you whenever you get stuck.\n",
       "4.  **Great for Building Foundational Logic:** Learning Python helps you understand core programming concepts (variables, loops, functions, data structures) that are transferable to any other language you might learn later.\n",
       "\n",
       "**Best for you if:** You're interested in data, AI, automation, general scripting, or just want a solid, versatile foundation in programming.\n",
       "\n",
       "---\n",
       "\n",
       "### **b) Learn JavaScript (Strong Second Choice, Especially for Web Enthusiasts)**\n",
       "\n",
       "**Why it's great for you:**\n",
       "\n",
       "1.  **The Language of the Web:** If you're interested in making interactive websites or web applications, JavaScript is absolutely essential. It runs directly in web browsers.\n",
       "    *   **Frontend Development:** It controls everything dynamic you see and interact with on a webpage (animations, forms, interactive maps, etc.).\n",
       "    *   **Backend Development:** With Node.js, JavaScript can also be used on the server-side, meaning you can build full-stack applications (both the front and back end) using just one language.\n",
       "    *   **Mobile Apps:** Frameworks like React Native allow you to build native mobile apps for iOS and Android using JavaScript.\n",
       "2.  **Immediate Visual Feedback:** Building web pages allows you to see your code's results instantly, which can be very motivating and engaging.\n",
       "3.  **High Demand:** JavaScript developers are always in high demand due to the pervasive nature of the web.\n",
       "4.  **Large Ecosystem:** Like Python, JavaScript has a huge community and an extensive ecosystem of libraries and frameworks.\n",
       "\n",
       "**Best for you if:** You're excited about building websites, web applications, or mobile apps, and want to see immediate visual results from your code.\n",
       "\n",
       "---\n",
       "\n",
       "### **c) Learn Fortran (Generally Not Recommended as a First Language for High Schoolers)**\n",
       "\n",
       "**Why it's less ideal for you:**\n",
       "\n",
       "1.  **Niche Application:** Fortran (FORmula TRANslation) is an older language (dating back to the 1950s!) that excels in very specific, high-performance computing (HPC) domains. It's primarily used for:\n",
       "    *   **Scientific Computing:** Numerical simulations in physics, chemistry, engineering, weather forecasting, climate modeling.\n",
       "    *   **High-Performance Computing:** When raw computational speed for number crunching is paramount.\n",
       "2.  **Less Versatile for General Programming:** Unlike Python or JavaScript, Fortran is not used for web development, mobile apps, general-purpose scripting, or most modern software applications you interact with daily.\n",
       "3.  **Steeper Learning Curve for Modern Concepts:** While it's powerful for its niche, its paradigms are older, and it lacks many of the modern features and libraries that make general programming more accessible and efficient today.\n",
       "4.  **Fewer \"Fun\" Immediate Projects:** It's harder to build immediately engaging projects with Fortran that a high school student might find motivating (like a simple game, a website, or an automation script).\n",
       "5.  **Smaller Community (for Beginners):** While it has dedicated communities in its niche, finding beginner-friendly resources and support is much harder compared to Python or JavaScript.\n",
       "\n",
       "**Best for you if (and this is rare for a first language):** You are *absolutely certain* you want to specialize in high-performance scientific or engineering computations at a university level, and you are ready for a very specific, computationally intense path. Even then, you'd likely learn Python or C++ first.\n",
       "\n",
       "---\n",
       "\n",
       "### **My Overall Suggestion:**\n",
       "\n",
       "**Start with Python.** It offers the best balance of ease of learning, versatility, and broad applicability. It will teach you core programming concepts that are transferable, and you can explore many different areas (data science, web backend, automation) to see what truly sparks your interest.\n",
       "\n",
       "If you find yourself constantly thinking about how websites work and wanting to build your own, then **JavaScript** would be an excellent choice.\n",
       "\n",
       "**Regardless of your choice:**\n",
       "\n",
       "*   **Focus on Concepts:** Don't just learn syntax. Understand *why* you're writing code a certain way.\n",
       "*   **Build Projects:** The best way to learn is by doing. Start small (e.g., a \"guess the number\" game, a simple calculator, a basic website with interactive elements) and gradually work your way up to more complex projects.\n",
       "*   **Use Online Resources:** Websites like Codecademy, freeCodeCamp, Coursera, Udemy, and Harvard's CS50 are excellent places to start with structured lessons.\n",
       "*   **Don't Be Afraid to Switch:** If you start with Python and realize you're more interested in web development, it's easy to pivot to JavaScript (or vice versa). The fundamental logic you learn is largely universal.\n",
       "\n",
       "Good luck on your programming journey! It's a challenging but incredibly rewarding skill to learn."
      ],
      "text/plain": [
       "<IPython.core.display.Markdown object>"
      ]
     },
     "metadata": {},
     "output_type": "display_data"
    }
   ],
   "source": [
    "prompt = \"\"\"I'm a high school student. Which of these activities do you suggest and why:\n",
    "a) learn Python\n",
    "b) learn JavaScript\n",
    "c) learn Fortran\n",
    "\"\"\"\n",
    "\n",
    "response = client.models.generate_content(model=MODEL_ID, contents=prompt)\n",
    "display(Markdown(response.text))"
   ]
  },
  {
   "cell_type": "markdown",
   "metadata": {
    "id": "iTd60b1GdIsx"
   },
   "source": [
    "### Improve response quality by including examples"
   ]
  },
  {
   "cell_type": "markdown",
   "metadata": {
    "id": "yJi44NejdJYE"
   },
   "source": [
    "Another way to improve response quality is to add examples in your prompt. The LLM learns in-context from the examples on how to respond. Typically, one to five examples (shots) are enough to improve the quality of responses. Including too many examples can cause the model to over-fit the data and reduce the quality of responses.\n",
    "\n",
    "Similar to classical model training, the quality and distribution of the examples is very important. Pick examples that are representative of the scenarios that you need the model to learn, and keep the distribution of the examples (e.g. number of examples per class in the case of classification) aligned with your actual distribution."
   ]
  },
  {
   "cell_type": "markdown",
   "metadata": {
    "id": "sMbLginWdOKs"
   },
   "source": [
    "#### Zero-shot prompt"
   ]
  },
  {
   "cell_type": "markdown",
   "metadata": {
    "id": "Crh2Loi2dQ0v"
   },
   "source": [
    "Below is an example of zero-shot prompting, where you don't provide any examples to the LLM within the prompt itself."
   ]
  },
  {
   "cell_type": "code",
   "execution_count": 24,
   "metadata": {
    "id": "-7myRc-SdTQ4"
   },
   "outputs": [
    {
     "data": {
      "text/markdown": [
       "Sentiment: Positive"
      ],
      "text/plain": [
       "<IPython.core.display.Markdown object>"
      ]
     },
     "metadata": {},
     "output_type": "display_data"
    }
   ],
   "source": [
    "prompt = \"\"\"Decide whether a Tweet's sentiment is positive, neutral, or negative.\n",
    "\n",
    "Tweet: I loved the new YouTube video you made!\n",
    "Sentiment:\n",
    "\"\"\"\n",
    "\n",
    "response = client.models.generate_content(model=MODEL_ID, contents=prompt)\n",
    "display(Markdown(response.text))"
   ]
  },
  {
   "cell_type": "markdown",
   "metadata": {
    "id": "ucRtPn9SdL64"
   },
   "source": [
    "#### One-shot prompt"
   ]
  },
  {
   "cell_type": "markdown",
   "metadata": {
    "id": "rs0gQH2vdYBi"
   },
   "source": [
    "Below is an example of one-shot prompting, where you provide one example to the LLM within the prompt to give some guidance on what type of response you want."
   ]
  },
  {
   "cell_type": "code",
   "execution_count": 25,
   "metadata": {
    "id": "iEq-KxGYdaT5"
   },
   "outputs": [
    {
     "data": {
      "text/markdown": [
       "negative"
      ],
      "text/plain": [
       "<IPython.core.display.Markdown object>"
      ]
     },
     "metadata": {},
     "output_type": "display_data"
    }
   ],
   "source": [
    "prompt = \"\"\"Decide whether a Tweet's sentiment is positive, neutral, or negative.\n",
    "\n",
    "Tweet: I loved the new YouTube video you made!\n",
    "Sentiment: positive\n",
    "\n",
    "Tweet: That was awful. Super boring 😠\n",
    "Sentiment:\n",
    "\"\"\"\n",
    "\n",
    "response = client.models.generate_content(model=MODEL_ID, contents=prompt)\n",
    "display(Markdown(response.text))"
   ]
  },
  {
   "cell_type": "markdown",
   "metadata": {
    "id": "JnKLjJzmdfL_"
   },
   "source": [
    "#### Few-shot prompt"
   ]
  },
  {
   "cell_type": "markdown",
   "metadata": {
    "id": "6Zv-9F5OdgI_"
   },
   "source": [
    "Below is an example of few-shot prompting, where you provide a few examples to the LLM within the prompt to give some guidance on what type of response you want."
   ]
  },
  {
   "cell_type": "code",
   "execution_count": 26,
   "metadata": {
    "id": "u37P9tG4dk9S"
   },
   "outputs": [
    {
     "data": {
      "text/markdown": [
       "positive"
      ],
      "text/plain": [
       "<IPython.core.display.Markdown object>"
      ]
     },
     "metadata": {},
     "output_type": "display_data"
    }
   ],
   "source": [
    "prompt = \"\"\"Decide whether a Tweet's sentiment is positive, neutral, or negative.\n",
    "\n",
    "Tweet: I loved the new YouTube video you made!\n",
    "Sentiment: positive\n",
    "\n",
    "Tweet: That was awful. Super boring 😠\n",
    "Sentiment: negative\n",
    "\n",
    "Tweet: Something surprised me about this video - it was actually original. It was not the same old recycled stuff that I always see. Watch it - you will not regret it.\n",
    "Sentiment:\n",
    "\"\"\"\n",
    "\n",
    "response = client.models.generate_content(model=MODEL_ID, contents=prompt)\n",
    "display(Markdown(response.text))"
   ]
  },
  {
   "cell_type": "markdown",
   "metadata": {
    "id": "wDMD3xb2dvX6"
   },
   "source": [
    "#### Choosing between zero-shot, one-shot, few-shot prompting methods"
   ]
  },
  {
   "cell_type": "markdown",
   "metadata": {
    "id": "s92W0YpNdxJp"
   },
   "source": [
    "Which prompt technique to use will solely depends on your goal. The zero-shot prompts are more open-ended and can give you creative answers, while one-shot and few-shot prompts teach the model how to behave so you can get more predictable answers that are consistent with the examples provided."
   ]
  }
 ],
 "metadata": {
  "colab": {
   "name": "intro_prompt_design.ipynb",
   "toc_visible": true
  },
  "environment": {
   "kernel": "conda-base-py",
   "name": "workbench-notebooks.m132",
   "type": "gcloud",
   "uri": "us-docker.pkg.dev/deeplearning-platform-release/gcr.io/workbench-notebooks:m132"
  },
  "kernelspec": {
   "display_name": "Python 3 (ipykernel) (Local) (Local)",
   "language": "python",
   "name": "conda-base-py"
  },
  "language_info": {
   "codemirror_mode": {
    "name": "ipython",
    "version": 3
   },
   "file_extension": ".py",
   "mimetype": "text/x-python",
   "name": "python",
   "nbconvert_exporter": "python",
   "pygments_lexer": "ipython3",
   "version": "3.10.18"
  }
 },
 "nbformat": 4,
 "nbformat_minor": 4
}
