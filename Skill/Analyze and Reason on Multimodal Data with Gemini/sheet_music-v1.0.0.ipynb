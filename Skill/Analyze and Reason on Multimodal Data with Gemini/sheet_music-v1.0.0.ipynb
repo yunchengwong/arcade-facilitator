{
 "cells": [
  {
   "cell_type": "code",
   "execution_count": 1,
   "metadata": {
    "id": "ijGzTHJJUCPY"
   },
   "outputs": [],
   "source": [
    "# Copyright 2024 Google LLC\n",
    "#\n",
    "# Licensed under the Apache License, Version 2.0 (the \"License\");\n",
    "# you may not use this file except in compliance with the License.\n",
    "# You may obtain a copy of the License at\n",
    "#\n",
    "#     https://www.apache.org/licenses/LICENSE-2.0\n",
    "#\n",
    "# Unless required by applicable law or agreed to in writing, software\n",
    "# distributed under the License is distributed on an \"AS IS\" BASIS,\n",
    "# WITHOUT WARRANTIES OR CONDITIONS OF ANY KIND, either express or implied.\n",
    "# See the License for the specific language governing permissions and\n",
    "# limitations under the License."
   ]
  },
  {
   "cell_type": "markdown",
   "metadata": {
    "id": "VEqbX8OhE8y9"
   },
   "source": [
    "# Sheet Music Analysis with Gemini\n",
    "\n",
    "<table align=\"left\">\n",
    "  <td style=\"text-align: center\">\n",
    "    <a href=\"https://colab.research.google.com/github/GoogleCloudPlatform/generative-ai/blob/main/gemini/use-cases/document-processing/sheet_music.ipynb\">\n",
    "      <img src=\"https://cloud.google.com/ml-engine/images/colab-logo-32px.png\" alt=\"Google Colaboratory logo\"><br> Run in Colab\n",
    "    </a>\n",
    "  </td>\n",
    "  <td style=\"text-align: center\">\n",
    "    <a href=\"https://console.cloud.google.com/vertex-ai/colab/import/https:%2F%2Fraw.githubusercontent.com%2FGoogleCloudPlatform%2Fgenerative-ai%2Fmain%2Fgemini%2Fuse-cases%2Fdocument-processing%2Fsheet_music.ipynb\">\n",
    "      <img width=\"32px\" src=\"https://lh3.googleusercontent.com/JmcxdQi-qOpctIvWKgPtrzZdJJK-J3sWE1RsfjZNwshCFgE_9fULcNpuXYTilIR2hjwN\" alt=\"Google Cloud Colab Enterprise logo\"><br> Run in Colab Enterprise\n",
    "    </a>\n",
    "  </td>       \n",
    "  <td style=\"text-align: center\">\n",
    "    <a href=\"https://github.com/GoogleCloudPlatform/generative-ai/blob/main/gemini/use-cases/document-processing/sheet_music.ipynb\">\n",
    "      <img src=\"https://cloud.google.com/ml-engine/images/github-logo-32px.png\" alt=\"GitHub logo\"><br> View on GitHub\n",
    "    </a>\n",
    "  </td>\n",
    "  <td style=\"text-align: center\">\n",
    "    <a href=\"https://console.cloud.google.com/vertex-ai/workbench/deploy-notebook?download_url=https://raw.githubusercontent.com/GoogleCloudPlatform/generative-ai/main/gemini/use-cases/document-processing/sheet_music.ipynb\">\n",
    "      <img src=\"https://lh3.googleusercontent.com/UiNooY4LUgW_oTvpsNhPpQzsstV5W8F7rYgxgGBD85cWJoLmrOzhVs_ksK_vgx40SHs7jCqkTkCk=e14-rj-sc0xffffff-h130-w32\" alt=\"Vertex AI logo\"><br> Open in Vertex AI Workbench\n",
    "    </a>\n",
    "  </td>\n",
    "  <td style=\"text-align: center\">\n",
    "    <a href=\"https://goo.gle/4jjsLV9\">\n",
    "      <img width=\"32px\" src=\"https://cdn.qwiklabs.com/assets/gcp_cloud-e3a77215f0b8bfa9b3f611c0d2208c7e8708ed31.svg\" alt=\"Google Cloud logo\"><br> Open in  Cloud Skills Boost\n",
    "    </a>\n",
    "  </td>\n",
    "</table>\n",
    "\n",
    "<div style=\"clear: both;\"></div>\n",
    "\n",
    "<b>Share to:</b>\n",
    "\n",
    "<a href=\"https://www.linkedin.com/sharing/share-offsite/?url=https%3A//github.com/GoogleCloudPlatform/generative-ai/blob/main/gemini/use-cases/document-processing/sheet_music.ipynb\" target=\"_blank\">\n",
    "  <img width=\"20px\" src=\"https://upload.wikimedia.org/wikipedia/commons/8/81/LinkedIn_icon.svg\" alt=\"LinkedIn logo\">\n",
    "</a>\n",
    "\n",
    "<a href=\"https://bsky.app/intent/compose?text=https%3A//github.com/GoogleCloudPlatform/generative-ai/blob/main/gemini/use-cases/document-processing/sheet_music.ipynb\" target=\"_blank\">\n",
    "  <img width=\"20px\" src=\"https://upload.wikimedia.org/wikipedia/commons/7/7a/Bluesky_Logo.svg\" alt=\"Bluesky logo\">\n",
    "</a>\n",
    "\n",
    "<a href=\"https://twitter.com/intent/tweet?url=https%3A//github.com/GoogleCloudPlatform/generative-ai/blob/main/gemini/use-cases/document-processing/sheet_music.ipynb\" target=\"_blank\">\n",
    "  <img width=\"20px\" src=\"https://upload.wikimedia.org/wikipedia/commons/5/5a/X_icon_2.svg\" alt=\"X logo\">\n",
    "</a>\n",
    "\n",
    "<a href=\"https://reddit.com/submit?url=https%3A//github.com/GoogleCloudPlatform/generative-ai/blob/main/gemini/use-cases/document-processing/sheet_music.ipynb\" target=\"_blank\">\n",
    "  <img width=\"20px\" src=\"https://redditinc.com/hubfs/Reddit%20Inc/Brand/Reddit_Logo.png\" alt=\"Reddit logo\">\n",
    "</a>\n",
    "\n",
    "<a href=\"https://www.facebook.com/sharer/sharer.php?u=https%3A//github.com/GoogleCloudPlatform/generative-ai/blob/main/gemini/use-cases/document-processing/sheet_music.ipynb\" target=\"_blank\">\n",
    "  <img width=\"20px\" src=\"https://upload.wikimedia.org/wikipedia/commons/5/51/Facebook_f_logo_%282019%29.svg\" alt=\"Facebook logo\">\n",
    "</a>            \n"
   ]
  },
  {
   "cell_type": "markdown",
   "metadata": {
    "id": "5ad877ea09dd"
   },
   "source": [
    "| Author |\n",
    "| --- |\n",
    "| [Holt Skinner](https://github.com/holtskinner) |"
   ]
  },
  {
   "cell_type": "markdown",
   "metadata": {
    "id": "CkHPv2myT2cx"
   },
   "source": [
    "## Overview\n",
    "\n",
    "[Sheet Music](https://en.wikipedia.org/wiki/Sheet_music) is the primary form of music notation used by composers and performers across the world. These pages contain information about the lyrics, pitches, rhythms, composer, text author, composition date, among others.\n",
    "\n",
    "This notebook illustrates using Gemini to extract this metadata from sheet music PDFs.\n",
    "\n",
    "These prompts and documents were demonstrated in the [Google Cloud Next 2024 session \"What's next with Gemini: Driving business impact with multimodal use cases\"](https://www.youtube.com/watch?v=DqH1R9Pk5RI).\n"
   ]
  },
  {
   "cell_type": "markdown",
   "metadata": {
    "id": "r11Gu7qNgx1p"
   },
   "source": [
    "## Getting Started\n"
   ]
  },
  {
   "cell_type": "markdown",
   "metadata": {
    "id": "No17Cw5hgx12"
   },
   "source": [
    "### Install Google Gen AI SDK for Python"
   ]
  },
  {
   "cell_type": "code",
   "execution_count": 2,
   "metadata": {
    "id": "tFy3H3aPgx12"
   },
   "outputs": [
    {
     "name": "stdout",
     "output_type": "stream",
     "text": [
      "Note: you may need to restart the kernel to use updated packages.\n"
     ]
    }
   ],
   "source": [
    "%pip install --upgrade -q google-genai PyPDF2"
   ]
  },
  {
   "cell_type": "markdown",
   "metadata": {
    "id": "dmWOrTJ3gx13"
   },
   "source": [
    "### Authenticate your notebook environment (Colab only)\n",
    "\n",
    "If you are running this notebook on Google Colab, run the following cell to authenticate your environment. This step is not required if you are using [Vertex AI Workbench](https://cloud.google.com/vertex-ai-workbench).\n"
   ]
  },
  {
   "cell_type": "code",
   "execution_count": 3,
   "metadata": {
    "id": "NyKGtVQjgx13"
   },
   "outputs": [],
   "source": [
    "import sys\n",
    "\n",
    "# Additional authentication is required for Google Colab\n",
    "if \"google.colab\" in sys.modules:\n",
    "    # Authenticate user to Google Cloud\n",
    "    from google.colab import auth\n",
    "\n",
    "    auth.authenticate_user()"
   ]
  },
  {
   "cell_type": "markdown",
   "metadata": {
    "id": "DF4l8DTdWgPY"
   },
   "source": [
    "### Set Google Cloud project information and create client\n",
    "\n",
    "To get started using Vertex AI, you must have an existing Google Cloud project and [enable the Vertex AI API](https://console.cloud.google.com/flows/enableapi?apiid=aiplatform.googleapis.com).\n",
    "\n",
    "Learn more about [setting up a project and a development environment](https://cloud.google.com/vertex-ai/docs/start/cloud-environment)."
   ]
  },
  {
   "cell_type": "code",
   "execution_count": 4,
   "metadata": {
    "id": "Nqwi-5ufWp_B"
   },
   "outputs": [],
   "source": [
    "# Use the environment variable if the user doesn't provide Project ID.\n",
    "import os\n",
    "\n",
    "from google import genai\n",
    "\n",
    "PROJECT_ID = \"qwiklabs-gcp-04-4be09a7f8e06\"  # @param {type: \"string\", placeholder: \"[your-project-id]\", isTemplate: true}\n",
    "if not PROJECT_ID or PROJECT_ID == \"[your-project-id]\":\n",
    "    PROJECT_ID = str(os.environ.get(\"GOOGLE_CLOUD_PROJECT\"))\n",
    "\n",
    "LOCATION = os.environ.get(\"GOOGLE_CLOUD_REGION\", \"europe-west4\")\n",
    "\n",
    "client = genai.Client(vertexai=True, project=PROJECT_ID, location=LOCATION)"
   ]
  },
  {
   "cell_type": "markdown",
   "metadata": {
    "id": "jXHfaVS66_01"
   },
   "source": [
    "### Import libraries\n"
   ]
  },
  {
   "cell_type": "code",
   "execution_count": 5,
   "metadata": {
    "id": "lslYAvw37JGQ"
   },
   "outputs": [],
   "source": [
    "import json\n",
    "\n",
    "from IPython.display import Markdown, display\n",
    "import PyPDF2\n",
    "from google.genai.types import (\n",
    "    GenerateContentConfig,\n",
    "    GoogleSearch,\n",
    "    HarmBlockThreshold,\n",
    "    HarmCategory,\n",
    "    Part,\n",
    "    SafetySetting,\n",
    "    Tool,\n",
    ")"
   ]
  },
  {
   "cell_type": "markdown",
   "metadata": {
    "id": "FTMywdzUORIA"
   },
   "source": [
    "### Load the Gemini model\n",
    "\n",
    "Gemini is a multimodal model that supports multimodal prompts. You can include text, image(s), PDFs, audio, and video in your prompt requests."
   ]
  },
  {
   "cell_type": "code",
   "execution_count": 6,
   "metadata": {
    "id": "7b76801cc9e4"
   },
   "outputs": [],
   "source": [
    "MODEL_ID = \"gemini-2.0-flash\"  # @param {type: \"string\"}\n",
    "\n",
    "config = GenerateContentConfig(\n",
    "    temperature=1.0,\n",
    "    max_output_tokens=8192,\n",
    "    safety_settings=[\n",
    "        SafetySetting(\n",
    "            category=HarmCategory.HARM_CATEGORY_DANGEROUS_CONTENT,\n",
    "            threshold=HarmBlockThreshold.BLOCK_ONLY_HIGH,\n",
    "        )\n",
    "    ],\n",
    "    system_instruction=\"You are an expert in musicology and music history.\",\n",
    "    tools=[Tool(google_search=GoogleSearch())],\n",
    ")"
   ]
  },
  {
   "cell_type": "markdown",
   "metadata": {
    "id": "Wy75sLb-yjNn"
   },
   "source": [
    "## Extract Structured Metadata from Sheet Music PDF\n",
    "\n",
    "For this example, we will be using the popular classical music book [24 Italian Songs and Arias of the 17th and 18th Centuries](https://imslp.org/wiki/24_Italian_Songs_and_Arias_of_the_17th_and_18th_Centuries_(Various)), and extracting metadata about each song in the book."
   ]
  },
  {
   "cell_type": "code",
   "execution_count": 7,
   "metadata": {
    "id": "0ed417af1e5c"
   },
   "outputs": [
    {
     "data": {
      "text/markdown": [
       "Here is the metadata for each piece of music, extracted from the sheet music document:\n",
       "\n",
       "1.  **Title:** Per la gloria d'adorarvi\n",
       "    *   **Composer:** Giovanni Battista Bononcini (1672-1750)\n",
       "    *   **Tempo Marking:** Andante\n",
       "    *   **Description:** A composition from the opera \"Griselda,\" where the lyrics express a heart's desire to adore and cherish, even in pain and unrequited love.\n",
       "\n",
       "2.  **Title:** Amarilli, mia bella\n",
       "    *   **Composer:** Giulio Caccini (1546-1618)\n",
       "    *   **Tempo Marking:** Moderato affettuoso\n",
       "    *   **Description:** A madrigal expressing the doubts and uncertainties of love.\n",
       "\n",
       "3.  **Title:** Alma del core\n",
       "    *   **Composer:** Antonio Caldara (1670-1736)\n",
       "    *   **Tempo Marking:** Tempo di Minuetto\n",
       "    *   **Description:** A song about the spirit of beauty and a constant, faithful love.\n",
       "\n",
       "4.  **Title:** Come raggio di sol\n",
       "    *   **Composer:** Antonio Caldara (1670-1736)\n",
       "    *   **Tempo Marking:** Sostenuto\n",
       "    *   **Description:** An aria that describes a beam of sunlight over a swelling wave, transitioning to a somber reflection on fate and hidden storms in the ocean's depths.\n",
       "\n",
       "5.  **Title:** Sebben, crudele\n",
       "    *   **Composer:** Antonio Caldara (1670-1736)\n",
       "    *   **Tempo Marking:** Allegretto grazioso\n",
       "    *   **Description:** A canzonetta expressing unwavering love despite cruel treatment.\n",
       "\n",
       "6.  **Title:** Vittoria, mio core!\n",
       "    *   **Composer:** Giacomo Carissimi (1605-1674)\n",
       "    *   **Tempo Marking:** Allegro con brio\n",
       "    *   **Description:** A cantata, is a declaration of victory and freedom from love's torments, transitioning into a reflection on past sorrow and deception.\n",
       "\n",
       "7.  **Title:** Danza, danza, fanciulla gentile\n",
       "    *   **Composer:** Francesco Durante (1684-1755)\n",
       "    *   **Tempo Marking:** Allegro con spirito\n",
       "    *   **Description:** An arietta, is a call to dance and enjoy life's fleeting moments.\n",
       "\n",
       "8.  **Title:** Vergin, tutto amor\n",
       "    *   **Composer:** Francesco Durante (1684-1755)\n",
       "    *   **Tempo Marking:** Largo religioso\n",
       "    *   **Description:** A preghiera (prayer) is a heartfelt plea to the Virgin Mary, seeking solace and compassion.\n",
       "\n",
       "9.  **Title:** Caro mio ben\n",
       "    *   **Composer:** Giuseppe Giordani (Giordanello) (1744-1798)\n",
       "    *   **Tempo Marking:** Larghetto\n",
       "    *   **Description:** An arietta, is a declaration of love.\n",
       "\n",
       "10. **Title:** O del mio dolce ardor\n",
       "    *   **Composer:** Christoph Willibald von Gluck (1714-1787)\n",
       "    *   **Tempo Marking:** Moderato\n",
       "    *   **Description:** An aria that speaks of a heart longing for a beloved.\n",
       "\n",
       "11. **Title:** Che fiero costume\n",
       "    *   **Composer:** Giovanni Legrenzi (1626-1690)\n",
       "    *   **Tempo Marking:** Allegretto con moto\n",
       "    *   **Description:** An arietta is a reflection on the torment caused by love.\n",
       "\n",
       "12. **Title:** Pur dicesti, o bocca bella\n",
       "    *   **Composer:** Antonio Lotti (1667-1740)\n",
       "    *   **Tempo Marking:** Allegretto grazioso\n",
       "    *   **Description:** An arietta, is an exploration of beauty and alluring sweetness.\n",
       "\n",
       "13. **Title:** Il mio bel foco\n",
       "    *   **Composer:** Benedetto Marcello (1686-1739)\n",
       "    *   **Tempo Marking:** Recitativo\n",
       "    *   **Description:** A recitative and aria that expresses an unwavering love and devotion.\n",
       "\n",
       "14. **Title:** Lasciatemi morire!\n",
       "    *   **Composer:** Claudio Monteverdi (1567-1643)\n",
       "    *   **Tempo Marking:** Lento\n",
       "    *   **Description:** A canto from the opera \"Ariana,\" is a lament and plea to be left to die.\n",
       "\n",
       "15. **Title:** Nel cor più non mi sento\n",
       "    *   **Composer:** Giovanni Paisiello (1740-1816)\n",
       "    *   **Tempo Marking:** Andantino\n",
       "    *   **Description:** An arietta that speaks to a sense of dormancy.\n",
       "\n",
       "16. **Title:** Se tu m'ami, se sospiri\n",
       "    *   **Composer:** Giovanni Battista Pergolesi (1710-1736)\n",
       "    *   **Tempo Marking:** Andantino\n",
       "    *   **Description:** An arietta that speaks of love and sorrow.\n",
       "\n",
       "17. **Title:** Nina\n",
       "    *   **Composer:** Attributed to Giovanni Battista Pergolesi (1710-1736), actually by Legrenzio Vincenzo Ciampi (1719-?)\n",
       "    *   **Tempo Marking:** Andantino\n",
       "    *   **Description:** A canzonetta about waking Nina.\n",
       "\n",
       "18. **Title:** Già il sole dal Gange\n",
       "    *   **Composer:** Alessandro Scarlatti (1659-1725)\n",
       "    *   **Tempo Marking:** Allegro giusto\n",
       "    *   **Description:** A canzonetta about the launch of the sun.\n",
       "\n",
       "19.  **Title:** Le Violette\n",
       "    *   **Composer:** Alessandro Scarlatti (1659-1725)\n",
       "    *   **Tempo Marking:** Allegretto\n",
       "    *   **Description:** A canzone about violets.\n",
       "\n",
       "20. **Title:** O cessate di piagarmi\n",
       "    *   **Composer:** Alessandro Scarlatti (1659-1725)\n",
       "    *   **Tempo Marking:** Andante con moto\n",
       "    *   **Description:** An arietta.\n",
       "\n",
       "21. **Title:** Se Florindo è fedele\n",
       "    *   **Composer:** Alessandro Scarlatti (1659-1725)\n",
       "    *   **Tempo Marking:** Allegretto grazioso, moderato assai\n",
       "    *   **Description:** An arietta.\n",
       "\n",
       "22. **Title:** Pietà, Signore!\n",
       "    *   **Composer:** Alessandro Stradella (1645?-1682?)\n",
       "    *   **Tempo Marking:** Andantino\n",
       "    *   **Description:** A sacred song pleading for mercy.\n",
       "\n",
       "23. **Title:** Tu lo sai\n",
       "    *   **Composer:** Giuseppe Torelli (1650-1703)\n",
       "    *   **Tempo Marking:** Andantino\n",
       "    *   **Description:** About asking they heart.\n"
      ],
      "text/plain": [
       "<IPython.core.display.Markdown object>"
      ]
     },
     "metadata": {},
     "output_type": "display_data"
    }
   ],
   "source": [
    "sheet_music_pdf_uri = \"gs://github-repo/use-cases/sheet-music/24ItalianSongs.pdf\"\n",
    "\n",
    "sheet_music_extraction_prompt = \"\"\"The following document is a book of sheet music. Your task is to output structured metadata about every piece of music in the document.\n",
    "\n",
    "Correct any mistakes that are in the document and fill in missing information when not present in the document.\n",
    "\n",
    "Include the following details:\n",
    "\n",
    "Title\n",
    "Composer with lifetime\n",
    "Tempo Marking\n",
    "A description of the piece\n",
    "\"\"\"\n",
    "\n",
    "# Send to Gemini\n",
    "response = client.models.generate_content(\n",
    "    model=MODEL_ID,\n",
    "    contents=[\n",
    "        sheet_music_extraction_prompt,\n",
    "        # Load file directly from Google Cloud Storage\n",
    "        Part.from_uri(\n",
    "            file_uri=sheet_music_pdf_uri,\n",
    "            mime_type=\"application/pdf\",\n",
    "        ),\n",
    "    ],\n",
    "    config=config,\n",
    ")\n",
    "\n",
    "# Display results\n",
    "display(Markdown(response.text))"
   ]
  },
  {
   "cell_type": "markdown",
   "metadata": {
    "id": "29b40b5e0cb0"
   },
   "source": [
    "You can see that Gemini extracted all of the relevant fields from the document."
   ]
  },
  {
   "cell_type": "markdown",
   "metadata": {
    "id": "db3765c7645d"
   },
   "source": [
    "### Song Identification with Audio\n",
    "\n",
    "Now, let's try something more challenging, identifying a song being performed based on the sheet music. We have an audio clip of Holt Skinner performing one of the songs in the book, and we will ask Gemini to identify it based on the sheet music PDF."
   ]
  },
  {
   "cell_type": "code",
   "execution_count": 8,
   "metadata": {
    "id": "61ea3f2f1c4a"
   },
   "outputs": [
    {
     "data": {
      "text/markdown": [
       "The song in the audio clip is \"Sebben, crudele\" by Antonio Caldara.\n",
       "\n",
       "I made this decision by listening to the audio clip and recognizing the melody as being from the song \"Sebben, crudele\". This song is number 6 in the sheet music PDF that you provided. The lyrics \"Sebben, crudele, mi fai languir, sempre fedele, sempre fedele ti voglio amar\" align with the audio clip provided.\n"
      ],
      "text/plain": [
       "<IPython.core.display.Markdown object>"
      ]
     },
     "metadata": {},
     "output_type": "display_data"
    }
   ],
   "source": [
    "song_identification_prompt = \"\"\"Based on the sheet music PDF, what song is in the audio clip? Explain how you made the decision.\"\"\"\n",
    "\n",
    "# Load PDF file\n",
    "pdf_part = Part.from_uri(\n",
    "    file_uri=sheet_music_pdf_uri,\n",
    "    mime_type=\"application/pdf\",\n",
    ")\n",
    "\n",
    "audio_part = Part.from_uri(\n",
    "    file_uri=\"gs://github-repo/use-cases/sheet-music/24ItalianClip.mp3\",\n",
    "    mime_type=\"audio/mpeg\",\n",
    ")\n",
    "\n",
    "# Send to Gemini\n",
    "response = client.models.generate_content(\n",
    "    model=MODEL_ID,\n",
    "    contents=[pdf_part, audio_part, song_identification_prompt],\n",
    "    config=config,\n",
    ")\n",
    "\n",
    "# Display results\n",
    "display(Markdown(response.text))"
   ]
  },
  {
   "cell_type": "markdown",
   "metadata": {
    "id": "9730e8a5628b"
   },
   "source": [
    "### Edit PDF Metadata\n",
    "\n",
    "Next, we'll use the output from Gemini to edit the metadata of a PDF containing one song, which can make it easier to organize this file in sheet music applications.\n",
    "\n",
    "We'll adjust the prompt slightly and set the [`response_mime_type`](https://cloud.google.com/vertex-ai/generative-ai/docs/model-reference/gemini#:~:text=in%20the%20list.-,responseMimeType,-(Preview)) to get the response in JSON format."
   ]
  },
  {
   "cell_type": "code",
   "execution_count": 9,
   "metadata": {
    "id": "97e2a06cc762"
   },
   "outputs": [
    {
     "data": {
      "text/markdown": [
       "{\n",
       "    \"/Title\": \"Sebben, crudele\",\n",
       "    \"/Author\": \"Antonio Caldara\",\n",
       "    \"/Subject\": \"Canzonetta\"\n",
       "}"
      ],
      "text/plain": [
       "<IPython.core.display.Markdown object>"
      ]
     },
     "metadata": {},
     "output_type": "display_data"
    }
   ],
   "source": [
    "sheet_music_pdf_uri = \"gs://github-repo/use-cases/sheet-music/SebbenCrudele.pdf\"\n",
    "output_file_name = \"SebbenCrudele.pdf\"\n",
    "\n",
    "sheet_music_extraction_prompt = \"\"\"The following document is a piece of sheet music. Your task is to output structured metadata about the piece of music in the document. Correct any mistakes that are in the document and fill in missing information when not present in the document.\n",
    "\n",
    "Output the data in the following JSON format:\n",
    "\n",
    "{\n",
    "    \"/Title\": \"Title of the piece\",\n",
    "    \"/Author\": \"Composer(s) of the piece\",\n",
    "    \"/Subject\": \"Music Genre(s) in a comma separated list\",\n",
    "}\n",
    "\n",
    "\"\"\"\n",
    "\n",
    "# Load file directly from Google Cloud Storage\n",
    "file_part = Part.from_uri(\n",
    "    file_uri=sheet_music_pdf_uri,\n",
    "    mime_type=\"application/pdf\",\n",
    ")\n",
    "\n",
    "generation_config = GenerateContentConfig(\n",
    "    temperature=1, response_mime_type=\"application/json\"\n",
    ")\n",
    "\n",
    "# Send to Gemini\n",
    "response = client.models.generate_content(\n",
    "    model=MODEL_ID,\n",
    "    contents=[sheet_music_extraction_prompt, file_part],\n",
    "    config=generation_config,\n",
    ")\n",
    "\n",
    "# Display results\n",
    "display(Markdown(response.text))\n",
    "\n",
    "new_metadata = json.loads(response.text)"
   ]
  },
  {
   "cell_type": "markdown",
   "metadata": {
    "id": "8e997cb6affc"
   },
   "source": [
    "Next, we'll download the PDF from the GCS Bucket and edit the metadata using the [`PyPDF2`](https://pypdf2.readthedocs.io/en/3.x/) library."
   ]
  },
  {
   "cell_type": "code",
   "execution_count": 10,
   "metadata": {
    "id": "879f827c537a"
   },
   "outputs": [
    {
     "name": "stdout",
     "output_type": "stream",
     "text": [
      "Copying gs://github-repo/use-cases/sheet-music/SebbenCrudele.pdf to file://SebbenCrudele.pdf\n",
      "  Completed files 1/1 | 586.7kiB/586.7kiB                                      \n",
      "\n",
      "Average throughput: 38.9MiB/s\n"
     ]
    }
   ],
   "source": [
    "! gcloud storage cp {sheet_music_pdf_uri} {output_file_name}"
   ]
  },
  {
   "cell_type": "code",
   "execution_count": 11,
   "metadata": {
    "id": "e81759999d78"
   },
   "outputs": [],
   "source": [
    "def edit_pdf_metadata(file_path: str, new_metadata: dict) -> None:\n",
    "    \"\"\"Edits metadata of a PDF file.\n",
    "\n",
    "    Args:\n",
    "        file_path (str): Path to the PDF file.\n",
    "        new_metadata (dict): Dictionary containing the new metadata fields and values.\n",
    "            Example: {'/Author': 'John Doe', '/Title': 'My Report'}\n",
    "    \"\"\"\n",
    "    with open(file_path, \"rb\") as pdf_file:\n",
    "        pdf_reader = PyPDF2.PdfReader(pdf_file)\n",
    "        pdf_writer = PyPDF2.PdfWriter()\n",
    "\n",
    "        pdf_writer.clone_reader_document_root(pdf_reader)\n",
    "        pdf_writer.add_metadata(new_metadata)\n",
    "\n",
    "        with open(file_path, \"wb\") as out_file:\n",
    "            pdf_writer.write(out_file)\n",
    "\n",
    "\n",
    "edit_pdf_metadata(output_file_name, new_metadata)"
   ]
  },
  {
   "cell_type": "code",
   "execution_count": 12,
   "metadata": {
    "id": "jtbQo-df1TTu",
    "tags": []
   },
   "outputs": [
    {
     "name": "stdout",
     "output_type": "stream",
     "text": [
      "{'/Producer': 'PyPDF2', '/Title': 'Sebben, crudele', '/Author': 'Antonio Caldara', '/Subject': 'Canzonetta'}\n"
     ]
    }
   ],
   "source": [
    "pdf_reader = PyPDF2.PdfReader(output_file_name)\n",
    "print(pdf_reader.metadata)"
   ]
  }
 ],
 "metadata": {
  "colab": {
   "name": "sheet_music.ipynb",
   "toc_visible": true
  },
  "environment": {
   "kernel": "conda-base-py",
   "name": "workbench-notebooks.m132",
   "type": "gcloud",
   "uri": "us-docker.pkg.dev/deeplearning-platform-release/gcr.io/workbench-notebooks:m132"
  },
  "kernelspec": {
   "display_name": "Python 3 (ipykernel) (Local)",
   "language": "python",
   "name": "conda-base-py"
  },
  "language_info": {
   "codemirror_mode": {
    "name": "ipython",
    "version": 3
   },
   "file_extension": ".py",
   "mimetype": "text/x-python",
   "name": "python",
   "nbconvert_exporter": "python",
   "pygments_lexer": "ipython3",
   "version": "3.10.18"
  }
 },
 "nbformat": 4,
 "nbformat_minor": 4
}
